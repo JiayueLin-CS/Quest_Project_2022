{
 "cells": [
  {
   "cell_type": "code",
   "execution_count": 1846,
   "id": "4c306b6c",
   "metadata": {},
   "outputs": [],
   "source": [
    "from __future__ import print_function\n",
    "import pandas as pd\n",
    "import numpy as np\n",
    "import xlsxwriter\n",
    "import cv2\n",
    "import matplotlib.colors as cs\n",
    "import matplotlib.pyplot as plt\n",
    "from sklearn.cluster import KMeans\n",
    "import urllib\n",
    "from pyinaturalist import get_observations\n",
    "import urllib.request\n",
    "from matplotlib import pyplot as plt\n",
    "\n",
    "# Color Hex Codes to Color Names\n",
    "from scipy.spatial import KDTree\n",
    "from webcolors import (\n",
    "    CSS3_HEX_TO_NAMES,\n",
    "    hex_to_rgb,\n",
    ")\n"
   ]
  },
  {
   "cell_type": "markdown",
   "id": "922b0335",
   "metadata": {},
   "source": [
    "### Create a new structured dataframe using the user id"
   ]
  },
  {
   "cell_type": "code",
   "execution_count": 1847,
   "id": "b49e7768",
   "metadata": {},
   "outputs": [],
   "source": [
    "iNaturalist_Username = input()"
   ]
  },
  {
   "cell_type": "code",
   "execution_count": 1848,
   "id": "5d82d206",
   "metadata": {},
   "outputs": [],
   "source": [
    "# Create a new observation\n",
    "observations = get_observations(user_id=iNaturalist_Username, page='all')\n",
    "\n",
    "# df_list is used to append all the observations into a dataframe\n",
    "df_list = []\n",
    "# df_url is used to store image urls\n",
    "df_url = []\n",
    "# df_lat_long is used to store latitude and longitude\n",
    "df_lat = []\n",
    "df_long = []\n",
    "# df_site_url is used to store site url\n",
    "df_site_url = []\n",
    "# Store user id and login\n",
    "# df_user_id = []\n",
    "df_user_login = []\n",
    "# Store public/positional accuracy\n",
    "# df_pos_acc = []\n",
    "# df_pub_pos_acc = []\n",
    "# Store annotations\n",
    "df_annotations = []\n",
    "\n",
    "for obs in observations['results']:\n",
    "    # From dict to dataframe\n",
    "    df = pd.DataFrame.from_dict(obs, orient='index')\n",
    "    # Get image urls\n",
    "    if obs.get('photos') is not None:\n",
    "        image_url = obs.get('photos')[0].get('url')\n",
    "    else:\n",
    "        image_url = 'None'\n",
    "    # Get latitude and longitude\n",
    "    # Get positional accuracy\n",
    "    if obs.get('location') is not None:\n",
    "        lat = obs.get('location')[0]\n",
    "        lon = obs.get('location')[1]\n",
    "        # pos_acc = obs.get('positional_accuracy')\n",
    "        # pub_pos_acc = obs.get('public_positional_accuracy')\n",
    "    else:\n",
    "        lat = '             40.343137'\n",
    "        lon = '             74.655070'\n",
    "    # Get annotations\n",
    "    if obs.get('annotations') is not None and lat == '             40.343137' and lon == '             74.655070':\n",
    "        anno = 'Princeton University'\n",
    "    else:\n",
    "        anno = obs.get('annotations')\n",
    "        # pos_acc = 'None'\n",
    "        # pub_pos_acc = 'None'\n",
    "    # Get site url\n",
    "    if obs.get('uri') is not None:\n",
    "        site_url = obs.get('uri')\n",
    "    else:\n",
    "        site_url = 'None'\n",
    "    # Get user id and login\n",
    "    if obs.get('user') is not None:\n",
    "        #user_id = obs.get('user').get('id')\n",
    "        user_login = obs.get('user').get('login')\n",
    "    else:\n",
    "        #user_id = 'None'\n",
    "        user_login = 'None'\n",
    "        \n",
    "    # Transpose the dataframe so that rows represent images and columns are variables\n",
    "    # that describe the images.\n",
    "    df = df.transpose()\n",
    "    df_list.append(df)\n",
    "    df_url.append(image_url)\n",
    "    df_lat.append(lat)\n",
    "    df_long.append(lon)\n",
    "    df_site_url.append(site_url)\n",
    "    #df_user_id.append(user_id)\n",
    "    df_user_login.append(user_login)\n",
    "    # df_pos_acc.append(pos_acc)\n",
    "    # df_pub_pos_acc.append(pub_pos_acc)\n",
    "    df_annotations.append(anno)\n",
    "\n",
    "# Concatenate all dataframes\n",
    "iNatStruct = pd.concat(df_list)\n",
    "\n",
    "# Add updated columns to the dataframe\n",
    "iNatStruct['square_image_url'] = df_url\n",
    "iNatStruct['latitude'] = df_lat\n",
    "iNatStruct['longitude'] = df_long\n",
    "iNatStruct['site_url'] = df_site_url\n",
    "#iNatStruct['user_id'] = df_user_id\n",
    "iNatStruct['User'] = df_user_login\n",
    "# iNatStruct['positional_accuracy'] = df_pos_acc\n",
    "# iNatStruct['public_positional_accuracy'] = df_pub_pos_acc\n",
    "iNatStruct['annotations'] = df_annotations\n",
    "\n",
    "# Replace image size from 'square' to 'medium' and 'large'\n",
    "iNatStruct['Image_Link'] = iNatStruct['square_image_url'].replace('square', 'medium', regex=True)\n",
    "# iNatStruct['large_image_url'] = iNatStruct['square_image_url'].replace('square', 'large', regex=True)\n",
    "\n",
    "# Reset index and drop the old index\n",
    "iNatStruct = iNatStruct.reset_index()\n",
    "# iNatStruct = iNatStruct.drop(['index'], axis=1)\n",
    "\n",
    "# iNatStruct\n",
    "# observations['results']"
   ]
  },
  {
   "cell_type": "markdown",
   "id": "b8f780a3",
   "metadata": {},
   "source": [
    "## Continue on initial structured data frame "
   ]
  },
  {
   "cell_type": "code",
   "execution_count": 1849,
   "id": "e0da5eed",
   "metadata": {},
   "outputs": [
    {
     "data": {
      "text/html": [
       "<pre style=\"white-space:pre;overflow-x:auto;line-height:normal;font-family:Menlo,'DejaVu Sans Mono',consolas,'Courier New',monospace\"><span style=\"color: #008000; text-decoration-color: #008000\">'12:04:49-04:00'</span>\n",
       "</pre>\n"
      ],
      "text/plain": [
       "\u001b[32m'12:04:49-04:00'\u001b[0m\n"
      ]
     },
     "metadata": {},
     "output_type": "display_data"
    }
   ],
   "source": [
    "# Split time_observed_at into date and time\n",
    "def convertT(time):\n",
    "    time = time.replace('T',' ')\n",
    "    return time\n",
    "\n",
    "(iNatStruct.time_observed_at.map(lambda t: convertT(t).split()))[0][1]"
   ]
  },
  {
   "cell_type": "code",
   "execution_count": 1850,
   "id": "12436cba",
   "metadata": {},
   "outputs": [],
   "source": [
    "# Use lambda function to split time_observed_at into date and time\n",
    "for i in iNatStruct.time_observed_at:    \n",
    "    iNatStruct['observed_date'] = (iNatStruct.time_observed_at.map(lambda t: convertT(t).split()[0]))\n",
    "    iNatStruct['observed_time'] = (iNatStruct.time_observed_at.map(lambda t: convertT(t).split()[1]))"
   ]
  },
  {
   "cell_type": "code",
   "execution_count": 1851,
   "id": "afe8be2e",
   "metadata": {},
   "outputs": [],
   "source": [
    "# shift columns observed_date and observed_time to position 1 and 2\n",
    "column1 = iNatStruct.pop('observed_date')\n",
    "column2 = iNatStruct.pop('observed_time')\n",
    "  \n",
    "# insert column using insert\n",
    "iNatStruct.insert(1, 'observed_date', column1)\n",
    "iNatStruct.insert(2, 'observed_time', column2)\n",
    "\n",
    "# delete time_observed_at column\n",
    "del iNatStruct[\"time_observed_at\"]\n",
    "del iNatStruct[\"observed_on\"]\n",
    "#del iNatStruct[\"observed_time\"]"
   ]
  },
  {
   "cell_type": "code",
   "execution_count": 1852,
   "id": "f0901c47",
   "metadata": {},
   "outputs": [],
   "source": [
    "# shift location column to last column\n",
    "column1 = iNatStruct.pop('location')\n",
    "  \n",
    "# insert location column using insert\n",
    "iNatStruct.insert(len(iNatStruct) - 1, 'location', column1) \n",
    "# not sure why it's not moving the column to last position"
   ]
  },
  {
   "cell_type": "code",
   "execution_count": 1853,
   "id": "d21a0f12",
   "metadata": {},
   "outputs": [],
   "source": [
    "# Remove the characters after '-'\n",
    "def removeChar(char):\n",
    "    ch = \"-\"\n",
    "    char = char.split(ch, 1)[0]\n",
    "    return char\n",
    "\n",
    "# Use lambda function to remove the characters after '-'\n",
    "iNatStruct['observed_time'] = iNatStruct.observed_time.map(lambda t: removeChar(t))"
   ]
  },
  {
   "cell_type": "code",
   "execution_count": 1854,
   "id": "af3430cb",
   "metadata": {},
   "outputs": [],
   "source": [
    "# Remove the characters after '+'\n",
    "def removeChara(char):\n",
    "    ch = \"+\"\n",
    "    char = char.split(ch, 1)[0]\n",
    "    return char\n",
    "\n",
    "# Use lambda function to remove the characters after '+'\n",
    "iNatStruct['observed_time'] = iNatStruct.observed_time.map(lambda t: removeChara(t))"
   ]
  },
  {
   "cell_type": "code",
   "execution_count": 1855,
   "id": "c4decf1a",
   "metadata": {},
   "outputs": [],
   "source": [
    "# Time to Second\n",
    "def timeToSec(time):\n",
    "    time = time.split(':')\n",
    "    sec = int(time[0])*3600 + int(time[1])*60 + int(time[2])\n",
    "    return sec\n",
    "\n",
    "# Use lambda function to convert time to second\n",
    "iNatStruct['Seconds'] = iNatStruct.observed_time.map(lambda t: timeToSec(t))"
   ]
  },
  {
   "cell_type": "code",
   "execution_count": 1856,
   "id": "265d4395",
   "metadata": {},
   "outputs": [
    {
     "data": {
      "text/html": [
       "<div>\n",
       "<style scoped>\n",
       "    .dataframe tbody tr th:only-of-type {\n",
       "        vertical-align: middle;\n",
       "    }\n",
       "\n",
       "    .dataframe tbody tr th {\n",
       "        vertical-align: top;\n",
       "    }\n",
       "\n",
       "    .dataframe thead th {\n",
       "        text-align: right;\n",
       "    }\n",
       "</style>\n",
       "<table border=\"1\" class=\"dataframe\">\n",
       "  <thead>\n",
       "    <tr style=\"text-align: right;\">\n",
       "      <th></th>\n",
       "      <th>Image_Label</th>\n",
       "      <th>Image_Link</th>\n",
       "      <th>Species</th>\n",
       "      <th>User</th>\n",
       "      <th>Date</th>\n",
       "      <th>Time</th>\n",
       "      <th>Seconds</th>\n",
       "      <th>Annotations</th>\n",
       "      <th>Lat</th>\n",
       "      <th>Long</th>\n",
       "    </tr>\n",
       "  </thead>\n",
       "  <tbody>\n",
       "    <tr>\n",
       "      <th>0</th>\n",
       "      <td>p1</td>\n",
       "      <td>https://inaturalist-open-data.s3.amazonaws.com...</td>\n",
       "      <td>None</td>\n",
       "      <td>llhouse2</td>\n",
       "      <td>2022-05-25</td>\n",
       "      <td>12:04:49</td>\n",
       "      <td>43489</td>\n",
       "      <td>[]</td>\n",
       "      <td>37.246193</td>\n",
       "      <td>-80.409284</td>\n",
       "    </tr>\n",
       "    <tr>\n",
       "      <th>1</th>\n",
       "      <td>p2</td>\n",
       "      <td>https://inaturalist-open-data.s3.amazonaws.com...</td>\n",
       "      <td>None</td>\n",
       "      <td>llhouse2</td>\n",
       "      <td>2022-05-25</td>\n",
       "      <td>12:07:21</td>\n",
       "      <td>43641</td>\n",
       "      <td>[]</td>\n",
       "      <td>37.246322</td>\n",
       "      <td>-80.409523</td>\n",
       "    </tr>\n",
       "    <tr>\n",
       "      <th>2</th>\n",
       "      <td>p3</td>\n",
       "      <td>https://inaturalist-open-data.s3.amazonaws.com...</td>\n",
       "      <td>Carolina sweetshrub</td>\n",
       "      <td>llhouse2</td>\n",
       "      <td>2022-05-25</td>\n",
       "      <td>12:09:03</td>\n",
       "      <td>43743</td>\n",
       "      <td>[]</td>\n",
       "      <td>37.350497</td>\n",
       "      <td>-80.484791</td>\n",
       "    </tr>\n",
       "    <tr>\n",
       "      <th>3</th>\n",
       "      <td>p4</td>\n",
       "      <td>https://inaturalist-open-data.s3.amazonaws.com...</td>\n",
       "      <td>None</td>\n",
       "      <td>llhouse2</td>\n",
       "      <td>2022-05-25</td>\n",
       "      <td>12:10:21</td>\n",
       "      <td>43821</td>\n",
       "      <td>[]</td>\n",
       "      <td>37.246163</td>\n",
       "      <td>-80.409251</td>\n",
       "    </tr>\n",
       "    <tr>\n",
       "      <th>4</th>\n",
       "      <td>p5</td>\n",
       "      <td>https://inaturalist-open-data.s3.amazonaws.com...</td>\n",
       "      <td>None</td>\n",
       "      <td>llhouse2</td>\n",
       "      <td>2022-05-25</td>\n",
       "      <td>12:10:37</td>\n",
       "      <td>43837</td>\n",
       "      <td>[]</td>\n",
       "      <td>37.246379</td>\n",
       "      <td>-80.409562</td>\n",
       "    </tr>\n",
       "    <tr>\n",
       "      <th>5</th>\n",
       "      <td>p6</td>\n",
       "      <td>https://inaturalist-open-data.s3.amazonaws.com...</td>\n",
       "      <td>None</td>\n",
       "      <td>llhouse2</td>\n",
       "      <td>2022-05-28</td>\n",
       "      <td>14:51:00</td>\n",
       "      <td>53460</td>\n",
       "      <td>Princeton University</td>\n",
       "      <td>40.343137</td>\n",
       "      <td>74.655070</td>\n",
       "    </tr>\n",
       "    <tr>\n",
       "      <th>6</th>\n",
       "      <td>p7</td>\n",
       "      <td>https://inaturalist-open-data.s3.amazonaws.com...</td>\n",
       "      <td>None</td>\n",
       "      <td>llhouse2</td>\n",
       "      <td>2022-06-03</td>\n",
       "      <td>09:48:39</td>\n",
       "      <td>35319</td>\n",
       "      <td>[]</td>\n",
       "      <td>37.25037</td>\n",
       "      <td>-80.410009</td>\n",
       "    </tr>\n",
       "    <tr>\n",
       "      <th>7</th>\n",
       "      <td>p8</td>\n",
       "      <td>https://inaturalist-open-data.s3.amazonaws.com...</td>\n",
       "      <td>None</td>\n",
       "      <td>llhouse2</td>\n",
       "      <td>2022-06-03</td>\n",
       "      <td>10:48:19</td>\n",
       "      <td>38899</td>\n",
       "      <td>Princeton University</td>\n",
       "      <td>40.343137</td>\n",
       "      <td>74.655070</td>\n",
       "    </tr>\n",
       "    <tr>\n",
       "      <th>8</th>\n",
       "      <td>p9</td>\n",
       "      <td>https://inaturalist-open-data.s3.amazonaws.com...</td>\n",
       "      <td>None</td>\n",
       "      <td>llhouse2</td>\n",
       "      <td>2022-06-03</td>\n",
       "      <td>10:41:30</td>\n",
       "      <td>38490</td>\n",
       "      <td>Princeton University</td>\n",
       "      <td>40.343137</td>\n",
       "      <td>74.655070</td>\n",
       "    </tr>\n",
       "    <tr>\n",
       "      <th>9</th>\n",
       "      <td>p10</td>\n",
       "      <td>https://inaturalist-open-data.s3.amazonaws.com...</td>\n",
       "      <td>None</td>\n",
       "      <td>llhouse2</td>\n",
       "      <td>2022-06-03</td>\n",
       "      <td>09:42:34</td>\n",
       "      <td>34954</td>\n",
       "      <td>[]</td>\n",
       "      <td>37.209292</td>\n",
       "      <td>-81.176853</td>\n",
       "    </tr>\n",
       "    <tr>\n",
       "      <th>10</th>\n",
       "      <td>p11</td>\n",
       "      <td>https://inaturalist-open-data.s3.amazonaws.com...</td>\n",
       "      <td>None</td>\n",
       "      <td>llhouse2</td>\n",
       "      <td>2022-06-03</td>\n",
       "      <td>09:42:12</td>\n",
       "      <td>34932</td>\n",
       "      <td>[]</td>\n",
       "      <td>37.24632</td>\n",
       "      <td>-80.409539</td>\n",
       "    </tr>\n",
       "    <tr>\n",
       "      <th>11</th>\n",
       "      <td>p12</td>\n",
       "      <td>https://inaturalist-open-data.s3.amazonaws.com...</td>\n",
       "      <td>None</td>\n",
       "      <td>llhouse2</td>\n",
       "      <td>2022-06-03</td>\n",
       "      <td>09:41:15</td>\n",
       "      <td>34875</td>\n",
       "      <td>[]</td>\n",
       "      <td>37.230324</td>\n",
       "      <td>-80.429407</td>\n",
       "    </tr>\n",
       "  </tbody>\n",
       "</table>\n",
       "</div>"
      ]
     },
     "execution_count": 1856,
     "metadata": {},
     "output_type": "execute_result"
    }
   ],
   "source": [
    "# Rename columns\n",
    "iNatStruct.rename(columns = {'species_guess':'Species', 'observed_date':'Date', 'observed_time':'Time', \n",
    "                             'annotations':'Annotations', 'latitude':'Lat', 'longitude':'Long'}, inplace = True)\n",
    "\n",
    "# The structured dataframe is now ready\n",
    "iNatStruct = iNatStruct[[\"Image_Link\", \"Species\", \"User\", \"Date\", \"Time\", \"Seconds\", \"Annotations\", \"Lat\", \"Long\"]]\n",
    "\n",
    "# Sort DataFrame by date and time\n",
    "iNatStruct = iNatStruct.sort_values(['Date', 'Time'], ascending = [True, True])\n",
    "\n",
    "# Add p_ column\n",
    "p_lab = ['p'+str(s+1) for s in iNatStruct.index]\n",
    "iNatStruct.insert(0, \"Image_Label\", p_lab)\n",
    "\n",
    "# Sort DataFrame by Image_Label\n",
    "iNatStruct = iNatStruct.sort_values('Image_Label', key=lambda x: x.str.extract('(\\d+)').squeeze().astype(int))\n",
    "\n",
    "iNatStruct"
   ]
  },
  {
   "cell_type": "markdown",
   "id": "0565bf7b",
   "metadata": {},
   "source": [
    "# Jubilee's color observation code"
   ]
  },
  {
   "cell_type": "markdown",
   "id": "14b5eace",
   "metadata": {},
   "source": [
    "## Show percentage of dominant (most frequent) color within image using kmeans"
   ]
  },
  {
   "cell_type": "code",
   "execution_count": 1857,
   "id": "bd1f23c0",
   "metadata": {},
   "outputs": [],
   "source": [
    "def centroid_histogram(clt):\n",
    "    # grab the number of different clusters and create a histogram\n",
    "    # based on the number of pixels assigned to each cluster\n",
    "    numLabels = np.arange(0, len(np.unique(clt.labels_)) + 1)\n",
    "    (hist, _) = np.histogram(clt.labels_, bins=numLabels)\n",
    "\n",
    "    # normalize the histogram, so that it sums to one\n",
    "    hist = hist.astype(\"float\")\n",
    "    hist /= hist.sum()\n",
    "    #hist = \"{:.2f}\".format(hist)\n",
    "    \n",
    "    # return the histogram\n",
    "    return hist\n",
    "\n",
    "\n",
    "#hist = centroid_histogram(clt)\n",
    "#print(hist)\n",
    "#type(hist)"
   ]
  },
  {
   "cell_type": "markdown",
   "id": "c3737e74",
   "metadata": {},
   "source": [
    "### Define Color Palette Display Function"
   ]
  },
  {
   "cell_type": "code",
   "execution_count": 1858,
   "id": "2df03d39",
   "metadata": {},
   "outputs": [],
   "source": [
    "def palette(clusters):\n",
    "    width = 300\n",
    "    palette = np.zeros((50, width, 3), np.uint8)\n",
    "    steps = width/clusters.cluster_centers_.shape[0]\n",
    "    for idx, centers in enumerate(clusters.cluster_centers_):\n",
    "        palette[:, int(idx*steps):(int((idx+1)*steps)), :] = centers\n",
    "    return palette"
   ]
  },
  {
   "cell_type": "markdown",
   "id": "31e6de0e",
   "metadata": {},
   "source": [
    "## Implement RGB color column"
   ]
  },
  {
   "cell_type": "code",
   "execution_count": 1859,
   "id": "448fbb2e",
   "metadata": {},
   "outputs": [],
   "source": [
    "# column name list \n",
    "col_names =  ['R1', 'G1', 'B1', 'R2', 'G2', 'B2', 'R3', 'G3', 'B3']\n",
    "col_names1 =  ['Per1', 'Per2', 'Per3']\n",
    "  \n",
    "# create an empty dataframe\n",
    "# with columns\n",
    "RGBdf = pd.DataFrame(columns = col_names)\n",
    "PERdf = pd.DataFrame(columns = col_names1) \n",
    "#RGBdf"
   ]
  },
  {
   "cell_type": "code",
   "execution_count": 1860,
   "id": "714819c3",
   "metadata": {},
   "outputs": [],
   "source": [
    "#import time"
   ]
  },
  {
   "cell_type": "code",
   "execution_count": 1861,
   "id": "37b53339",
   "metadata": {},
   "outputs": [],
   "source": [
    "#start = time.time()\n",
    "\n",
    "#clustNum = 3 #set number of cluster for kmeans to be 3\n",
    "#clt = KMeans(n_clusters=clustNum) # kmeans to find color cluster\n",
    "\n",
    "#for img in iNatStruct[\"Image_Link\"]: \n",
    "#    req = urllib.request.urlopen(img)\n",
    "#    arr = np.asarray(bytearray(req.read()), dtype=np.uint8)\n",
    "#    imgNat = cv2.imdecode(arr, -1)\n",
    "#    imgNat = cv2.cvtColor(imgNat,cv2.COLOR_BGR2RGB) #convert bgr to rgb\n",
    "#    n_img = np.reshape(imgNat,(imgNat.shape[0]*imgNat.shape[1],3)) #reshape img array\n",
    "#    clt.fit(n_img)\n",
    "    \n",
    "    #labels = np.unique(clt.labels_) #get unique value of labels in kmeans\n",
    "    #hist,_ = np.histogram(clt.labels_,bins=np.arange(len(labels)+1)) #find pixel numbers of each color\n",
    "    #colors = [] # list to hold color\n",
    "    #rgbVals = [] \n",
    "    #rgbVals1 = [] \n",
    "    #hexlabels = [] # list to hold hex color code\n",
    "#end = time.time()\n",
    "#elapsedTime = round(end-start,3)\n",
    "#print(\"new code block took\", elapsedTime)"
   ]
  },
  {
   "cell_type": "markdown",
   "id": "05f171cf",
   "metadata": {},
   "source": [
    "### attempt to use function"
   ]
  },
  {
   "cell_type": "code",
   "execution_count": 1862,
   "id": "c7b675ef",
   "metadata": {},
   "outputs": [],
   "source": [
    "#def imgConvert(img): \n",
    "#    for img in iNatStruct[\"Image_Link\"]: \n",
    "#        req = urllib.request.urlopen(img)\n",
    "#        arr = np.asarray(bytearray(req.read()), dtype=np.uint8)\n",
    "#        imgNat = cv2.imdecode(arr, -1)\n",
    "#        imgNat = cv2.cvtColor(imgNat,cv2.COLOR_BGR2RGB) #convert bgr to rgb\n",
    "#        n_img = np.reshape(imgNat,(imgNat.shape[0]*imgNat.shape[1],3)) #reshape img array\n",
    "        \n",
    "#    return clt.fit(n_img)"
   ]
  },
  {
   "cell_type": "code",
   "execution_count": 1863,
   "id": "cdfe6f80",
   "metadata": {},
   "outputs": [],
   "source": [
    "#start = time.time()\n",
    "#heights_cm = list(map(imgConvert, iNatStruct[\"Image_Link\"]))\n",
    "#end = time.time()\n",
    "#elapsedTime = round(end-start,3)\n",
    "#print(\"new code block took\", elapsedTime)"
   ]
  },
  {
   "cell_type": "markdown",
   "id": "d34b8da3",
   "metadata": {},
   "source": [
    "## Implement Color Names Column"
   ]
  },
  {
   "cell_type": "code",
   "execution_count": 1864,
   "id": "7dea2f6e",
   "metadata": {},
   "outputs": [],
   "source": [
    "# Convert RGB to Color Names\n",
    "def convert_rgb_to_names(rgb_tuple):\n",
    "    \n",
    "    # a dictionary of all the hex and their respective names in css3\n",
    "    css3_db = CSS3_HEX_TO_NAMES\n",
    "    names = []\n",
    "    rgb_values = []\n",
    "    for color_hex, color_name in css3_db.items():\n",
    "        names.append(color_name)\n",
    "        rgb_values.append(hex_to_rgb(color_hex))\n",
    "    \n",
    "    kdt_db = KDTree(rgb_values)\n",
    "    distance, index = kdt_db.query(rgb_tuple)\n",
    "    return f'{names[index]}'\n",
    "\n",
    "# Testing\n",
    "# print(convert_rgb_to_names((191.3446284379988,206.0364699381563,221.936275645711)))"
   ]
  },
  {
   "cell_type": "code",
   "execution_count": 1865,
   "id": "aa002489",
   "metadata": {},
   "outputs": [
    {
     "name": "stderr",
     "output_type": "stream",
     "text": [
      "C:\\Users\\18334\\AppData\\Local\\Temp\\ipykernel_19300\\2758037622.py:57: FutureWarning: The frame.append method is deprecated and will be removed from pandas in a future version. Use pandas.concat instead.\n",
      "  RGBdf = RGBdf.append(pd.DataFrame(rgbVals, columns=['R1', 'G1', 'B1', 'R2', 'G2', 'B2', 'R3', 'G3', 'B3']),\n",
      "C:\\Users\\18334\\AppData\\Local\\Temp\\ipykernel_19300\\2758037622.py:57: FutureWarning: The frame.append method is deprecated and will be removed from pandas in a future version. Use pandas.concat instead.\n",
      "  RGBdf = RGBdf.append(pd.DataFrame(rgbVals, columns=['R1', 'G1', 'B1', 'R2', 'G2', 'B2', 'R3', 'G3', 'B3']),\n",
      "C:\\Users\\18334\\AppData\\Local\\Temp\\ipykernel_19300\\2758037622.py:57: FutureWarning: The frame.append method is deprecated and will be removed from pandas in a future version. Use pandas.concat instead.\n",
      "  RGBdf = RGBdf.append(pd.DataFrame(rgbVals, columns=['R1', 'G1', 'B1', 'R2', 'G2', 'B2', 'R3', 'G3', 'B3']),\n",
      "C:\\Users\\18334\\AppData\\Local\\Temp\\ipykernel_19300\\2758037622.py:57: FutureWarning: The frame.append method is deprecated and will be removed from pandas in a future version. Use pandas.concat instead.\n",
      "  RGBdf = RGBdf.append(pd.DataFrame(rgbVals, columns=['R1', 'G1', 'B1', 'R2', 'G2', 'B2', 'R3', 'G3', 'B3']),\n",
      "C:\\Users\\18334\\AppData\\Local\\Temp\\ipykernel_19300\\2758037622.py:57: FutureWarning: The frame.append method is deprecated and will be removed from pandas in a future version. Use pandas.concat instead.\n",
      "  RGBdf = RGBdf.append(pd.DataFrame(rgbVals, columns=['R1', 'G1', 'B1', 'R2', 'G2', 'B2', 'R3', 'G3', 'B3']),\n",
      "C:\\Users\\18334\\AppData\\Local\\Temp\\ipykernel_19300\\2758037622.py:57: FutureWarning: The frame.append method is deprecated and will be removed from pandas in a future version. Use pandas.concat instead.\n",
      "  RGBdf = RGBdf.append(pd.DataFrame(rgbVals, columns=['R1', 'G1', 'B1', 'R2', 'G2', 'B2', 'R3', 'G3', 'B3']),\n",
      "C:\\Users\\18334\\AppData\\Local\\Temp\\ipykernel_19300\\2758037622.py:57: FutureWarning: The frame.append method is deprecated and will be removed from pandas in a future version. Use pandas.concat instead.\n",
      "  RGBdf = RGBdf.append(pd.DataFrame(rgbVals, columns=['R1', 'G1', 'B1', 'R2', 'G2', 'B2', 'R3', 'G3', 'B3']),\n",
      "C:\\Users\\18334\\AppData\\Local\\Temp\\ipykernel_19300\\2758037622.py:57: FutureWarning: The frame.append method is deprecated and will be removed from pandas in a future version. Use pandas.concat instead.\n",
      "  RGBdf = RGBdf.append(pd.DataFrame(rgbVals, columns=['R1', 'G1', 'B1', 'R2', 'G2', 'B2', 'R3', 'G3', 'B3']),\n",
      "C:\\Users\\18334\\AppData\\Local\\Temp\\ipykernel_19300\\2758037622.py:57: FutureWarning: The frame.append method is deprecated and will be removed from pandas in a future version. Use pandas.concat instead.\n",
      "  RGBdf = RGBdf.append(pd.DataFrame(rgbVals, columns=['R1', 'G1', 'B1', 'R2', 'G2', 'B2', 'R3', 'G3', 'B3']),\n",
      "C:\\Users\\18334\\AppData\\Local\\Temp\\ipykernel_19300\\2758037622.py:57: FutureWarning: The frame.append method is deprecated and will be removed from pandas in a future version. Use pandas.concat instead.\n",
      "  RGBdf = RGBdf.append(pd.DataFrame(rgbVals, columns=['R1', 'G1', 'B1', 'R2', 'G2', 'B2', 'R3', 'G3', 'B3']),\n",
      "C:\\Users\\18334\\AppData\\Local\\Temp\\ipykernel_19300\\2758037622.py:57: FutureWarning: The frame.append method is deprecated and will be removed from pandas in a future version. Use pandas.concat instead.\n",
      "  RGBdf = RGBdf.append(pd.DataFrame(rgbVals, columns=['R1', 'G1', 'B1', 'R2', 'G2', 'B2', 'R3', 'G3', 'B3']),\n",
      "C:\\Users\\18334\\AppData\\Local\\Temp\\ipykernel_19300\\2758037622.py:57: FutureWarning: The frame.append method is deprecated and will be removed from pandas in a future version. Use pandas.concat instead.\n",
      "  RGBdf = RGBdf.append(pd.DataFrame(rgbVals, columns=['R1', 'G1', 'B1', 'R2', 'G2', 'B2', 'R3', 'G3', 'B3']),\n"
     ]
    }
   ],
   "source": [
    "#start = time.time()\n",
    "\n",
    "hex_code = []\n",
    "r_pix = []\n",
    "g_pix = []\n",
    "b_pix = []\n",
    "per = []\n",
    "\n",
    "clustNum = 3 #set number of cluster for kmeans to be 3\n",
    "clt = KMeans(n_clusters=clustNum) # kmeans to find color cluster\n",
    "\n",
    "for img in iNatStruct[\"Image_Link\"]: \n",
    "    req = urllib.request.urlopen(img)\n",
    "    arr = np.asarray(bytearray(req.read()), dtype=np.uint8)\n",
    "    imgNat = cv2.imdecode(arr, -1)\n",
    "    #print(img)\n",
    "    \n",
    "    #clustNum = 3 #set number of cluster for kmeans to be 3\n",
    "    #clustNum = 4 #set number of cluster for kmeans to be 4\n",
    "    imgNat = cv2.cvtColor(imgNat,cv2.COLOR_BGR2RGB) #convert bgr to rgb\n",
    "    n_img = np.reshape(imgNat,(imgNat.shape[0]*imgNat.shape[1],3)) #reshape img array\n",
    "    #clt = KMeans(n_clusters=clustNum) # kmeans to find color cluster\n",
    "    clt.fit(n_img)\n",
    "    labels = np.unique(clt.labels_) #get unique value of labels in kmeans\n",
    "    hist,_ = np.histogram(clt.labels_,bins=np.arange(len(labels)+1)) #find pixel numbers of each color\n",
    "    colors = [] # list to hold color\n",
    "    rgbVals = [] \n",
    "    #rgbVals1 = [] \n",
    "    hexlabels = [] # list to hold hex color code\n",
    "    \n",
    "    #get the main color\n",
    "    for i in range(clt.cluster_centers_.shape[0]):\n",
    "        #colors.append(tuple(clt.cluster_centers_[i]/255))\n",
    "        colors.append(tuple(clt.cluster_centers_[i]))\n",
    "        \n",
    "        # add individual RGB values\n",
    "        #out = [(clt.cluster_centers_[i][j]) for j in range(clustNum)]\n",
    "        \n",
    "        # uncomment\n",
    "        for j in range(clustNum):\n",
    "            rgbVals.append(clt.cluster_centers_[i][j])\n",
    "            \n",
    "        hexlabels.append(cs.to_hex(tuple(clt.cluster_centers_[i]/255)))\n",
    "    \n",
    "    ## uncomment\n",
    "    rgbVals = [rgbVals]\n",
    "    \n",
    "    # add percentage\n",
    "    #histPer = centroid_histogram(clt)\n",
    "    #histPer = list(histPer)\n",
    "    histPer = list(centroid_histogram(clt))\n",
    "    #histPer = [round(percent,2) for percent in histPer]\n",
    "    per.append([round(percent,2) for percent in histPer])\n",
    "    #per.append(histPer)\n",
    "    \n",
    "    # append RGB\n",
    "    RGBdf = RGBdf.append(pd.DataFrame(rgbVals, columns=['R1', 'G1', 'B1', 'R2', 'G2', 'B2', 'R3', 'G3', 'B3']), \n",
    "                   ignore_index = True)\n",
    "    \n",
    "    # Store RGB Color Names\n",
    "    Color_Names_1 = []\n",
    "    Color_Names_2 = []\n",
    "    Color_Names_3 = []\n",
    "    for i in RGBdf.index:\n",
    "        # RGB1\n",
    "        rgb1 = RGBdf.iloc[i, 0:3]\n",
    "        Color_Names_1.append(convert_rgb_to_names(rgb1))\n",
    "        # RGB2\n",
    "        rgb2 = RGBdf.iloc[i, 3:6]\n",
    "        Color_Names_2.append(convert_rgb_to_names(rgb2))\n",
    "        # RGB3\n",
    "        rgb3 = RGBdf.iloc[i, 6:9]\n",
    "        Color_Names_3.append(convert_rgb_to_names(rgb3))\n",
    "    \n",
    "    # Convert 2D list to numpy.ndarray and get the transposed object with the T attribute\n",
    "    iNatStruct['RGB1'] = pd.DataFrame(np.array([Color_Names_1]).T)\n",
    "    iNatStruct['RGB2'] = pd.DataFrame(np.array([Color_Names_2]).T)\n",
    "    iNatStruct['RGB3'] = pd.DataFrame(np.array([Color_Names_3]).T)\n",
    "        \n",
    "    #iNatStruct[\"hex_color_code\"]\n",
    "    hex_code.append(hexlabels)\n",
    "    \n",
    "    #for idx in range(clustNum):\n",
    "    #    r_pix.append(clt.cluster_centers_[idx][0]) # R\n",
    "    #    g_pix.append(clt.cluster_centers_[idx][1]) # G\n",
    "    #    b_pix.append(clt.cluster_centers_[idx][2]) # G\n",
    "    #r_pix.append(clt.cluster_centers_[0]) # R\n",
    "    #g_pix.append(clt.cluster_centers_[1]) # G\n",
    "    #b_pix.append(clt.cluster_centers_[2]) # B\n",
    "#end = time.time()\n",
    "#elapsedTime = round(end-start,3)\n",
    "#print(\"new code block took\", elapsedTime)"
   ]
  },
  {
   "cell_type": "code",
   "execution_count": 1866,
   "id": "f6fa0da8",
   "metadata": {},
   "outputs": [
    {
     "name": "stdout",
     "output_type": "stream",
     "text": [
      "darkseagreen\n"
     ]
    }
   ],
   "source": [
    "# Testing\n",
    "# print(convert_rgb_to_names((204.2145959771765, 214.9506000938322, 195.7725091943722)))\n",
    "# print(convert_rgb_to_names((30.73837272509974, 42.23230632079876, 12.71769476637728)))\n",
    "# print(convert_rgb_to_names((83.90603802789066, 140.3623727218918, 78.11525212825453)))\n",
    "# print(convert_rgb_to_names((84.38598215233247, 81.77740890256457, 36.25592266013408)))\n",
    "print(convert_rgb_to_names((152.1545687446634, 182.7847139197269, 120.6727369769422)))"
   ]
  },
  {
   "cell_type": "code",
   "execution_count": 1867,
   "id": "6283321d",
   "metadata": {},
   "outputs": [],
   "source": [
    "#rgbVals"
   ]
  },
  {
   "cell_type": "code",
   "execution_count": 1868,
   "id": "c7366638",
   "metadata": {},
   "outputs": [],
   "source": [
    "#print(type(colors))\n",
    "#colors\n",
    "#colors[0]"
   ]
  },
  {
   "cell_type": "code",
   "execution_count": 1869,
   "id": "119ba81d",
   "metadata": {},
   "outputs": [],
   "source": [
    "#newCol = [colors]\n",
    "#newCol[0]"
   ]
  },
  {
   "cell_type": "code",
   "execution_count": 1870,
   "id": "e931be60",
   "metadata": {},
   "outputs": [],
   "source": [
    "#print(per[0])\n",
    "#per"
   ]
  },
  {
   "cell_type": "code",
   "execution_count": 1871,
   "id": "4c20c5a0",
   "metadata": {},
   "outputs": [],
   "source": [
    "# column name list \n",
    "#col_names2 =  ['R', 'G', 'B']\n",
    "  \n",
    "# create an empty dataframe\n",
    "#df = pd.DataFrame(columns = col_names2) "
   ]
  },
  {
   "cell_type": "code",
   "execution_count": 1872,
   "id": "1d57ad0a",
   "metadata": {},
   "outputs": [],
   "source": [
    "# example column\n",
    "#for i in range(len(df)):\n",
    "#    df.loc[i] = colors[i]\n",
    "#df.head()"
   ]
  },
  {
   "cell_type": "code",
   "execution_count": 1873,
   "id": "6fb3bec1",
   "metadata": {},
   "outputs": [
    {
     "data": {
      "text/html": [
       "<div>\n",
       "<style scoped>\n",
       "    .dataframe tbody tr th:only-of-type {\n",
       "        vertical-align: middle;\n",
       "    }\n",
       "\n",
       "    .dataframe tbody tr th {\n",
       "        vertical-align: top;\n",
       "    }\n",
       "\n",
       "    .dataframe thead th {\n",
       "        text-align: right;\n",
       "    }\n",
       "</style>\n",
       "<table border=\"1\" class=\"dataframe\">\n",
       "  <thead>\n",
       "    <tr style=\"text-align: right;\">\n",
       "      <th></th>\n",
       "      <th>Per1</th>\n",
       "      <th>Per2</th>\n",
       "      <th>Per3</th>\n",
       "    </tr>\n",
       "  </thead>\n",
       "  <tbody>\n",
       "    <tr>\n",
       "      <th>0</th>\n",
       "      <td>0.60</td>\n",
       "      <td>0.18</td>\n",
       "      <td>0.22</td>\n",
       "    </tr>\n",
       "    <tr>\n",
       "      <th>1</th>\n",
       "      <td>0.24</td>\n",
       "      <td>0.65</td>\n",
       "      <td>0.12</td>\n",
       "    </tr>\n",
       "    <tr>\n",
       "      <th>2</th>\n",
       "      <td>0.17</td>\n",
       "      <td>0.67</td>\n",
       "      <td>0.16</td>\n",
       "    </tr>\n",
       "    <tr>\n",
       "      <th>3</th>\n",
       "      <td>0.70</td>\n",
       "      <td>0.11</td>\n",
       "      <td>0.20</td>\n",
       "    </tr>\n",
       "    <tr>\n",
       "      <th>4</th>\n",
       "      <td>0.34</td>\n",
       "      <td>0.10</td>\n",
       "      <td>0.55</td>\n",
       "    </tr>\n",
       "  </tbody>\n",
       "</table>\n",
       "</div>"
      ]
     },
     "execution_count": 1873,
     "metadata": {},
     "output_type": "execute_result"
    }
   ],
   "source": [
    "# percent column\n",
    "for i in range(len(per)):\n",
    "    PERdf.loc[i] = per[i]\n",
    "PERdf.head()"
   ]
  },
  {
   "cell_type": "code",
   "execution_count": 1874,
   "id": "c2b22565",
   "metadata": {},
   "outputs": [],
   "source": [
    "# re-set index to be same as iNatStruct\n",
    "RGBdf = RGBdf.set_index(iNatStruct.index)\n",
    "PERdf = PERdf.set_index(iNatStruct.index)"
   ]
  },
  {
   "cell_type": "code",
   "execution_count": 1875,
   "id": "e9391bd7",
   "metadata": {},
   "outputs": [],
   "source": [
    "# append method\n",
    "#result = iNatStruct.append(RGBdf)\n",
    "result = pd.concat([iNatStruct, RGBdf, PERdf], axis=1)\n",
    "#display(result)"
   ]
  },
  {
   "cell_type": "code",
   "execution_count": 1876,
   "id": "21b36377",
   "metadata": {},
   "outputs": [],
   "source": [
    "iNatStruct = result\n",
    "#iNatStruct[\"Percentage\"] = per\n",
    "iNatStruct[\"Hex_Color_Code\"] = hex_code\n",
    "#iNatStruct.head()"
   ]
  },
  {
   "cell_type": "code",
   "execution_count": 1877,
   "id": "187e2689",
   "metadata": {},
   "outputs": [],
   "source": [
    "#hist = centroid_histogram(clt)\n",
    "#maxPer = max(hist)\n",
    "#maxPer"
   ]
  },
  {
   "cell_type": "code",
   "execution_count": 1878,
   "id": "c24be7ab",
   "metadata": {},
   "outputs": [],
   "source": [
    "#plt.imshow(imgNat)"
   ]
  },
  {
   "cell_type": "code",
   "execution_count": 1879,
   "id": "8abc385a",
   "metadata": {},
   "outputs": [],
   "source": [
    "#plt.pie(hist,labels=hexlabels,colors=colors,autopct='%1.1f%%')\n",
    "#plt.axis('equal')\n",
    "#plt.show()"
   ]
  },
  {
   "cell_type": "markdown",
   "id": "f57432a1",
   "metadata": {},
   "source": [
    "### masking attempt"
   ]
  },
  {
   "cell_type": "code",
   "execution_count": 1880,
   "id": "8c60b336",
   "metadata": {},
   "outputs": [],
   "source": [
    "# attempt on p9\n",
    "#req = urllib.request.urlopen(iNatStruct[\"Image_Link\"][0])\n",
    "#arr = np.asarray(bytearray(req.read()), dtype=np.uint8)\n",
    "#imgNat = cv2.imdecode(arr, -1)\n",
    "#imgray = cv2.cvtColor(imgNat, cv2.COLOR_BGR2GRAY)\n",
    "#blur = cv2.GaussianBlur(imgray, (5,5), 0)\n",
    "#thresh = cv2.threshold(blur, 0, 255, cv2.THRESH_BINARY_INV + cv2.THRESH_OTSU)[1]\n",
    "#contours, hierarchy = cv2.findContours(thresh, cv2.RETR_TREE, cv2.CHAIN_APPROX_SIMPLE)\n",
    "#cv2.drawContours(imgNat, contours, -1, (0, 255, 0), 3)\n",
    "#plt.imshow(imgNat)"
   ]
  },
  {
   "cell_type": "code",
   "execution_count": 1881,
   "id": "a0630d8c",
   "metadata": {},
   "outputs": [],
   "source": [
    "# Attempt on image with background of clear white\n",
    "#image6 = cv2.imread('/Users/jubls/Documents/AndroVTURCS/leaf_white.jpeg')\n",
    "#blurred = cv2.blur(imgNat, (3,3))\n",
    "#canny = cv2.Canny(blurred, 50, 200)\n",
    "\n",
    "## find the non-zero min-max coords of canny\n",
    "#pts = np.argwhere(canny>0)\n",
    "#y1,x1 = pts.min(axis=0)\n",
    "#y2,x2 = pts.max(axis=0)\n",
    "\n",
    "## crop the region\n",
    "#cropped = imgNat[y1:y2, x1:x2]\n",
    "#cv2.imwrite(\"cropped.png\", cropped)\n",
    "\n",
    "#tagged = cv2.rectangle(imgNat.copy(), (x1,y1), (x2,y2), (0,255,0), 3, cv2.LINE_AA)\n",
    "#cv2.imshow(\"tagged\", tagged)\n",
    "#cv2.waitKey()"
   ]
  },
  {
   "cell_type": "code",
   "execution_count": 1882,
   "id": "4b832393",
   "metadata": {},
   "outputs": [],
   "source": [
    "# create zero matrix \n",
    "#mask = np.zeros(imgNat.shape[:2], dtype=\"uint8\")\n",
    "#cv2.rectangle(mask, (x1, y1), (x2, y2), 255, -1)\n",
    "#cv2.imshow(\"Rectangular Mask\", mask)\n",
    "\n",
    "# apply our mask: notice the leaf in image is cropped out\n",
    "#masked = cv2.bitwise_and(imgNat, imgNat, mask=mask)\n",
    "#masked = cv2.bitwise_not(imgNat, imgNat, mask=mask)\n",
    "#cv2.imshow(\"Mask Applied to Leaf Image\", masked)\n",
    "#cv2.waitKey(0)"
   ]
  },
  {
   "cell_type": "code",
   "execution_count": 1883,
   "id": "1044e57f",
   "metadata": {},
   "outputs": [],
   "source": [
    "#print(imgNat.shape)\n",
    "#print((x2, y2))\n",
    "#print((x1, y1))\n",
    "#print(imgNat.shape[:2])\n",
    "#print(imgNat.shape[1])"
   ]
  },
  {
   "cell_type": "markdown",
   "id": "66cb9fb5",
   "metadata": {},
   "source": [
    "## First Method in attempt to mask out background¶\n",
    "- un-comment to check"
   ]
  },
  {
   "cell_type": "code",
   "execution_count": 1884,
   "id": "38781550",
   "metadata": {},
   "outputs": [],
   "source": [
    "#cropped_image = imgNat[y2:imgNat.shape[0], x2:imgNat.shape[1]]\n",
    "#cv2.imshow(\"Mask Applied to Leaf Image\", cropped_image)\n",
    "#cv2.waitKey(0)\n",
    "#cv2.destroyAllWindows()"
   ]
  },
  {
   "cell_type": "code",
   "execution_count": 1885,
   "id": "655b3539",
   "metadata": {},
   "outputs": [],
   "source": [
    "#arr = np.asarray(bytearray(cropped_image.read()), dtype=np.uint8)\n",
    "#imgNat = cv2.imdecode(arr, -1)\n",
    "#clustNum = 1 #set number of cluster for kmeans to be 2\n",
    "#n_img = np.reshape(cropped_image,(cropped_image.shape[0]*cropped_image.shape[1],3)) #reshape img array\n",
    "#clt = KMeans(n_clusters=clustNum) # kmeans to find color cluster\n",
    "#clt.fit(n_img)\n",
    "#labels = np.unique(clt.labels_) #get unique value of labels in kmeans\n",
    "#hist,_ = np.histogram(clt.labels_,bins=np.arange(len(labels)+1)) #find pixel numbers of each color\n",
    "#colors = [] # list to hold color\n",
    "#hexlabels = [] # list to hold hex color code\n",
    "#col_pix = []\n",
    "\n",
    "#get the main color\n",
    "#for i in range(clt.cluster_centers_.shape[0]):\n",
    "    #clust_cent = tuple(clt.cluster_centers_[i]/255)\n",
    "#    colors.append(tuple(clt.cluster_centers_[i]/255))\n",
    "#    col_pix.append(tuple(clt.cluster_centers_[i]))\n",
    "    #colors.append(clust_cent)\n",
    "#    hexlabels.append(cs.to_hex(tuple(clt.cluster_centers_[i]/255)))\n",
    "    "
   ]
  },
  {
   "cell_type": "markdown",
   "id": "d01f358e",
   "metadata": {},
   "source": [
    "#### create pie chart for color"
   ]
  },
  {
   "cell_type": "code",
   "execution_count": 1886,
   "id": "ed63347d",
   "metadata": {},
   "outputs": [],
   "source": [
    "#plt.pie(hist,labels=hexlabels,colors=colors,autopct='%1.1f%%')\n",
    "#plt.axis('equal')\n",
    "#plt.show()"
   ]
  },
  {
   "cell_type": "markdown",
   "id": "a9c788f6",
   "metadata": {},
   "source": [
    "## Second Method in attempt to mask out background"
   ]
  },
  {
   "cell_type": "code",
   "execution_count": 1887,
   "id": "104c76f3",
   "metadata": {},
   "outputs": [],
   "source": [
    "#img = cv.imread('test2.jpg')\n",
    "#imgray = cv2.cvtColor(imgNat, cv2.COLOR_BGR2GRAY)\n",
    "#blur = cv2.GaussianBlur(imgray, (5,5), 0)\n",
    "#thresh = cv2.threshold(blur, 0, 255, cv2.THRESH_BINARY_INV + cv2.THRESH_OTSU)[1]\n",
    "#contours, hierarchy = cv2.findContours(thresh, cv2.RETR_TREE, cv2.CHAIN_APPROX_SIMPLE)\n",
    "#cv2.drawContours(imgNat, contours, -1, (0, 255, 0), 3)\n",
    "#plt.imshow(imgNat)"
   ]
  },
  {
   "cell_type": "code",
   "execution_count": 1888,
   "id": "a8dbf193",
   "metadata": {},
   "outputs": [],
   "source": [
    "#arr = np.asarray(bytearray(cropped_image.read()), dtype=np.uint8)\n",
    "#imgNat = cv2.imdecode(arr, -1)\n",
    "#clustNum = 4 #set number of cluster for kmeans to be 4\n",
    "#n_img = np.reshape(imgNat,(imgNat.shape[0]*imgNat.shape[1],3)) #reshape img array\n",
    "#clt = KMeans(n_clusters=clustNum) # kmeans to find color cluster\n",
    "#clt.fit(n_img)\n",
    "#labels = np.unique(clt.labels_) #get unique value of labels in kmeans\n",
    "#hist,_ = np.histogram(clt.labels_,bins=np.arange(len(labels)+1)) #find pixel numbers of each color\n",
    "#colors = [] # list to hold color\n",
    "#hexlabels = [] # list to hold hex color code\n",
    "#col_pix = []\n",
    "\n",
    "#get the main color\n",
    "#for i in range(clt.cluster_centers_.shape[0]):\n",
    "    #clust_cent = tuple(clt.cluster_centers_[i]/255)\n",
    "#    colors.append(tuple(clt.cluster_centers_[i]/255))\n",
    "#    col_pix.append(tuple(clt.cluster_centers_[i]))\n",
    "    #colors.append(clust_cent)\n",
    "    #hexlabels.append(cs.to_hex(tuple(clt.cluster_centers_[i]/255)))\n",
    "    "
   ]
  },
  {
   "cell_type": "code",
   "execution_count": 1889,
   "id": "570bce62",
   "metadata": {},
   "outputs": [],
   "source": [
    "#from pylab import *\n",
    "#clt = clt.fit(imgNat.reshape(-1, 3))\n",
    "#imshow(palette(clt))"
   ]
  },
  {
   "cell_type": "markdown",
   "id": "301adef6",
   "metadata": {},
   "source": [
    "# Wei's code"
   ]
  },
  {
   "cell_type": "code",
   "execution_count": 1890,
   "id": "9eeeb57b",
   "metadata": {},
   "outputs": [],
   "source": [
    "# Wei's new first block of code\n",
    "#img = cv.imread('test2.jpg')\n",
    "#imgray = cv.cvtColor(img, cv.COLOR_BGR2GRAY)\n",
    "#blur = cv2.GaussianBlur(imgray, (5,5), 0)\n",
    "#thresh = cv2.threshold(blur, 0, 255, cv2.THRESH_BINARY_INV + cv2.THRESH_OTSU)[1]\n",
    "#contours, hierarchy = cv.findContours(thresh, cv.RETR_TREE, cv.CHAIN_APPROX_SIMPLE)"
   ]
  },
  {
   "cell_type": "code",
   "execution_count": 1891,
   "id": "2de89dd2",
   "metadata": {},
   "outputs": [],
   "source": [
    "def tag(img):\n",
    "    blurred = cv2.blur(imgNat, (3,3))\n",
    "    canny = cv2.Canny(blurred, 50, 200)\n",
    "    \n",
    "    pts = np.argwhere(canny>0)\n",
    "    y1,x1 = pts.min(axis=0)\n",
    "    y2,x2 = pts.max(axis=0)\n",
    "    \n",
    "    w = (x2-x1) # width\n",
    "    h = (y2-y1) # height\n",
    "    \n",
    "    return [w,h]"
   ]
  },
  {
   "cell_type": "code",
   "execution_count": 1892,
   "id": "eacd550f",
   "metadata": {},
   "outputs": [
    {
     "name": "stdout",
     "output_type": "stream",
     "text": [
      "[244, 265]\n",
      "244\n",
      "265\n"
     ]
    }
   ],
   "source": [
    "print(tag(imgNat))\n",
    "print(tag(imgNat)[0])\n",
    "print(tag(imgNat)[1])"
   ]
  },
  {
   "cell_type": "code",
   "execution_count": 1893,
   "id": "b89d8bf2",
   "metadata": {},
   "outputs": [
    {
     "data": {
      "text/html": [
       "<pre style=\"white-space:pre;overflow-x:auto;line-height:normal;font-family:Menlo,'DejaVu Sans Mono',consolas,'Courier New',monospace\">\n",
       "<span style=\"color: #800080; text-decoration-color: #800080; font-weight: bold\">array</span><span style=\"font-weight: bold\">([[</span><span style=\"color: #008080; text-decoration-color: #008080; font-weight: bold\">244</span>, <span style=\"color: #008080; text-decoration-color: #008080; font-weight: bold\">265</span><span style=\"font-weight: bold\">]</span>,\n",
       "       <span style=\"font-weight: bold\">[</span><span style=\"color: #008080; text-decoration-color: #008080; font-weight: bold\">244</span>, <span style=\"color: #008080; text-decoration-color: #008080; font-weight: bold\">265</span><span style=\"font-weight: bold\">]]</span>, <span style=\"color: #808000; text-decoration-color: #808000\">dtype</span>=<span style=\"color: #800080; text-decoration-color: #800080\">int64</span><span style=\"font-weight: bold\">)</span>\n",
       "</pre>\n"
      ],
      "text/plain": [
       "\n",
       "\u001b[1;35marray\u001b[0m\u001b[1m(\u001b[0m\u001b[1m[\u001b[0m\u001b[1m[\u001b[0m\u001b[1;36m244\u001b[0m, \u001b[1;36m265\u001b[0m\u001b[1m]\u001b[0m,\n",
       "       \u001b[1m[\u001b[0m\u001b[1;36m244\u001b[0m, \u001b[1;36m265\u001b[0m\u001b[1m]\u001b[0m\u001b[1m]\u001b[0m, \u001b[33mdtype\u001b[0m=\u001b[35mint64\u001b[0m\u001b[1m)\u001b[0m\n"
      ]
     },
     "metadata": {},
     "output_type": "display_data"
    }
   ],
   "source": [
    "ex = [tag(imgNat),tag(imgNat)]\n",
    "np.array(tag(imgNat))\n",
    "np.array(ex)"
   ]
  },
  {
   "cell_type": "code",
   "execution_count": 1894,
   "id": "ad4f48c6",
   "metadata": {},
   "outputs": [],
   "source": [
    "#start = time.time()\n",
    "\n",
    "contArea = []\n",
    "width = []\n",
    "height = []\n",
    "ratio = []\n",
    "extentInfo = []\n",
    "solidityInfo = []\n",
    "angleInfo = []\n",
    "\n",
    "#for img in iNatStruct.index: \n",
    "for img in iNatStruct[\"Image_Link\"]: \n",
    "    req = urllib.request.urlopen(img)\n",
    "    arr = np.asarray(bytearray(req.read()), dtype=np.uint8)\n",
    "    imgNat = cv2.imdecode(arr, -1)\n",
    "    #print(img)\n",
    "    \n",
    "    #img = cv2.imread('test2.jpg')\n",
    "    imgray = cv2.cvtColor(imgNat, cv2.COLOR_BGR2GRAY)\n",
    "    blur = cv2.GaussianBlur(imgray, (5,5), 0)\n",
    "    thresh = cv2.threshold(blur, 0, 255, cv2.THRESH_BINARY_INV + cv2.THRESH_OTSU)[1]\n",
    "    contours, hierarchy = cv2.findContours(thresh, cv2.RETR_TREE, cv2.CHAIN_APPROX_SIMPLE)\n",
    "    \n",
    "    cv2.drawContours(imgNat, contours, -1, (0, 255, 0), 3)\n",
    "    \n",
    "    #plt.imshow(imgNat)\n",
    "    \n",
    "    # Contour Area\n",
    "    #cnt = contours[1] >> throws an error for some reason..?\n",
    "    cnt = contours[0] # this works\n",
    "\n",
    "    \n",
    "    # rotated rectangle\n",
    "    rect = cv2.minAreaRect(cnt)\n",
    "    box = cv2.boxPoints(rect)\n",
    "    box = np.int0(box)\n",
    "    x,y,w,h = cv2.boundingRect(box)\n",
    "    #cv2.drawContours(img,[box],0,(0,0,255),2)\n",
    "    \n",
    "    #aspect_ratio = float(w1)/h1\n",
    "    #print(aspect_ratio)\n",
    "    \n",
    "    area = cv2.contourArea(cnt)\n",
    "    #print(area)\n",
    "    \n",
    "    if area < 50:\n",
    "        w = tag(imgNat)[0]\n",
    "        h = tag(imgNat)[1]\n",
    "        cnt = np.array([tag(imgNat),tag(imgNat)])\n",
    "        area = w*h\n",
    "        #area = cv2.contourArea(cnt)\n",
    "    \n",
    "    # aspect_ratio\n",
    "    #aspect_ratio = float(w1)/h1\n",
    "    aspect_ratio = float(w)/h\n",
    "    \n",
    "    # Extent\n",
    "    x1,y1,w1,h1 = cv2.boundingRect(cnt) # what is the difference?\n",
    "    rect_area = w1*h1\n",
    "    extent = float(area)/rect_area\n",
    "    #print(\"the extent is\", extent)\n",
    "\n",
    "    # Solidity\n",
    "    hull = cv2.convexHull(cnt)\n",
    "    hull_area = cv2.contourArea(hull)\n",
    "    #print(\"the convex hull area is\", hull_area)\n",
    "    #solidity = float(area)/hull_area\n",
    "    if hull_area == 0:\n",
    "        solidity = 0\n",
    "    else:\n",
    "        solidity = float(area)/hull_area\n",
    "    #print(\"the solidity is\", solidity)\n",
    "\n",
    "    # Orientation\n",
    "    #(x,y),(MA,ma),angle = cv2.fitEllipse(cnt)\n",
    "    #print(\"the angle of object is\", angle)\n",
    "        \n",
    "    contArea.append(area)\n",
    "    width.append(w)\n",
    "    height.append(h)\n",
    "    ratio.append(aspect_ratio)\n",
    "    extentInfo.append(extent)\n",
    "    solidityInfo.append(solidity)\n",
    "    #angleInfo.append(angle)\n",
    "#end = time.time()\n",
    "#elapsedTime = round(end-start,3)\n",
    "#print(\"new code block took\", elapsedTime) "
   ]
  },
  {
   "cell_type": "code",
   "execution_count": 1895,
   "id": "85c09c08",
   "metadata": {},
   "outputs": [
    {
     "data": {
      "text/html": [
       "<div>\n",
       "<style scoped>\n",
       "    .dataframe tbody tr th:only-of-type {\n",
       "        vertical-align: middle;\n",
       "    }\n",
       "\n",
       "    .dataframe tbody tr th {\n",
       "        vertical-align: top;\n",
       "    }\n",
       "\n",
       "    .dataframe thead th {\n",
       "        text-align: right;\n",
       "    }\n",
       "</style>\n",
       "<table border=\"1\" class=\"dataframe\">\n",
       "  <thead>\n",
       "    <tr style=\"text-align: right;\">\n",
       "      <th></th>\n",
       "      <th>Image_Label</th>\n",
       "      <th>Image_Link</th>\n",
       "      <th>Species</th>\n",
       "      <th>User</th>\n",
       "      <th>Date</th>\n",
       "      <th>Time</th>\n",
       "      <th>Seconds</th>\n",
       "      <th>Annotations</th>\n",
       "      <th>Lat</th>\n",
       "      <th>Long</th>\n",
       "      <th>...</th>\n",
       "      <th>Per1</th>\n",
       "      <th>Per2</th>\n",
       "      <th>Per3</th>\n",
       "      <th>Hex_Color_Code</th>\n",
       "      <th>Contour_Area</th>\n",
       "      <th>Width</th>\n",
       "      <th>Height</th>\n",
       "      <th>Aspect_Ratio</th>\n",
       "      <th>Extent</th>\n",
       "      <th>Solidity</th>\n",
       "    </tr>\n",
       "  </thead>\n",
       "  <tbody>\n",
       "    <tr>\n",
       "      <th>0</th>\n",
       "      <td>p1</td>\n",
       "      <td>https://inaturalist-open-data.s3.amazonaws.com...</td>\n",
       "      <td>None</td>\n",
       "      <td>llhouse2</td>\n",
       "      <td>2022-05-25</td>\n",
       "      <td>12:04:49</td>\n",
       "      <td>43489</td>\n",
       "      <td>[]</td>\n",
       "      <td>37.246193</td>\n",
       "      <td>-80.409284</td>\n",
       "      <td>...</td>\n",
       "      <td>0.60</td>\n",
       "      <td>0.18</td>\n",
       "      <td>0.22</td>\n",
       "      <td>[#bfcede, #314d12, #628138]</td>\n",
       "      <td>521.5</td>\n",
       "      <td>22</td>\n",
       "      <td>55</td>\n",
       "      <td>0.400000</td>\n",
       "      <td>0.430992</td>\n",
       "      <td>0.883898</td>\n",
       "    </tr>\n",
       "    <tr>\n",
       "      <th>1</th>\n",
       "      <td>p2</td>\n",
       "      <td>https://inaturalist-open-data.s3.amazonaws.com...</td>\n",
       "      <td>None</td>\n",
       "      <td>llhouse2</td>\n",
       "      <td>2022-05-25</td>\n",
       "      <td>12:07:21</td>\n",
       "      <td>43641</td>\n",
       "      <td>[]</td>\n",
       "      <td>37.246322</td>\n",
       "      <td>-80.409523</td>\n",
       "      <td>...</td>\n",
       "      <td>0.24</td>\n",
       "      <td>0.65</td>\n",
       "      <td>0.12</td>\n",
       "      <td>[#2a4b13, #bccbdd, #a3b2bd]</td>\n",
       "      <td>42647.0</td>\n",
       "      <td>272</td>\n",
       "      <td>267</td>\n",
       "      <td>1.018727</td>\n",
       "      <td>0.705014</td>\n",
       "      <td>0.919077</td>\n",
       "    </tr>\n",
       "    <tr>\n",
       "      <th>2</th>\n",
       "      <td>p3</td>\n",
       "      <td>https://inaturalist-open-data.s3.amazonaws.com...</td>\n",
       "      <td>Carolina sweetshrub</td>\n",
       "      <td>llhouse2</td>\n",
       "      <td>2022-05-25</td>\n",
       "      <td>12:09:03</td>\n",
       "      <td>43743</td>\n",
       "      <td>[]</td>\n",
       "      <td>37.350497</td>\n",
       "      <td>-80.484791</td>\n",
       "      <td>...</td>\n",
       "      <td>0.17</td>\n",
       "      <td>0.67</td>\n",
       "      <td>0.16</td>\n",
       "      <td>[#393117, #b7c6db, #5c6c44]</td>\n",
       "      <td>60445.0</td>\n",
       "      <td>428</td>\n",
       "      <td>465</td>\n",
       "      <td>0.920430</td>\n",
       "      <td>0.472345</td>\n",
       "      <td>0.656854</td>\n",
       "    </tr>\n",
       "    <tr>\n",
       "      <th>3</th>\n",
       "      <td>p4</td>\n",
       "      <td>https://inaturalist-open-data.s3.amazonaws.com...</td>\n",
       "      <td>None</td>\n",
       "      <td>llhouse2</td>\n",
       "      <td>2022-05-25</td>\n",
       "      <td>12:10:21</td>\n",
       "      <td>43821</td>\n",
       "      <td>[]</td>\n",
       "      <td>37.246163</td>\n",
       "      <td>-80.409251</td>\n",
       "      <td>...</td>\n",
       "      <td>0.70</td>\n",
       "      <td>0.11</td>\n",
       "      <td>0.20</td>\n",
       "      <td>[#adbcd2, #233827, #9aa8bd]</td>\n",
       "      <td>21082.0</td>\n",
       "      <td>299</td>\n",
       "      <td>141</td>\n",
       "      <td>2.120567</td>\n",
       "      <td>0.618168</td>\n",
       "      <td>0.898311</td>\n",
       "    </tr>\n",
       "    <tr>\n",
       "      <th>4</th>\n",
       "      <td>p5</td>\n",
       "      <td>https://inaturalist-open-data.s3.amazonaws.com...</td>\n",
       "      <td>None</td>\n",
       "      <td>llhouse2</td>\n",
       "      <td>2022-05-25</td>\n",
       "      <td>12:10:37</td>\n",
       "      <td>43837</td>\n",
       "      <td>[]</td>\n",
       "      <td>37.246379</td>\n",
       "      <td>-80.409562</td>\n",
       "      <td>...</td>\n",
       "      <td>0.34</td>\n",
       "      <td>0.10</td>\n",
       "      <td>0.55</td>\n",
       "      <td>[#97a4ba, #3f3e2a, #acbad2]</td>\n",
       "      <td>19528.5</td>\n",
       "      <td>287</td>\n",
       "      <td>226</td>\n",
       "      <td>1.269912</td>\n",
       "      <td>0.492721</td>\n",
       "      <td>0.741387</td>\n",
       "    </tr>\n",
       "    <tr>\n",
       "      <th>5</th>\n",
       "      <td>p6</td>\n",
       "      <td>https://inaturalist-open-data.s3.amazonaws.com...</td>\n",
       "      <td>None</td>\n",
       "      <td>llhouse2</td>\n",
       "      <td>2022-05-28</td>\n",
       "      <td>14:51:00</td>\n",
       "      <td>53460</td>\n",
       "      <td>Princeton University</td>\n",
       "      <td>40.343137</td>\n",
       "      <td>74.655070</td>\n",
       "      <td>...</td>\n",
       "      <td>0.60</td>\n",
       "      <td>0.05</td>\n",
       "      <td>0.35</td>\n",
       "      <td>[#cbccc9, #c63917, #b3b5ac]</td>\n",
       "      <td>105298.0</td>\n",
       "      <td>323</td>\n",
       "      <td>326</td>\n",
       "      <td>0.990798</td>\n",
       "      <td>105298.000000</td>\n",
       "      <td>0.000000</td>\n",
       "    </tr>\n",
       "    <tr>\n",
       "      <th>6</th>\n",
       "      <td>p7</td>\n",
       "      <td>https://inaturalist-open-data.s3.amazonaws.com...</td>\n",
       "      <td>None</td>\n",
       "      <td>llhouse2</td>\n",
       "      <td>2022-06-03</td>\n",
       "      <td>09:48:39</td>\n",
       "      <td>35319</td>\n",
       "      <td>[]</td>\n",
       "      <td>37.25037</td>\n",
       "      <td>-80.410009</td>\n",
       "      <td>...</td>\n",
       "      <td>0.58</td>\n",
       "      <td>0.40</td>\n",
       "      <td>0.03</td>\n",
       "      <td>[#737b93, #96a0be, #464f42]</td>\n",
       "      <td>174151.0</td>\n",
       "      <td>499</td>\n",
       "      <td>349</td>\n",
       "      <td>1.429799</td>\n",
       "      <td>174151.000000</td>\n",
       "      <td>0.000000</td>\n",
       "    </tr>\n",
       "    <tr>\n",
       "      <th>7</th>\n",
       "      <td>p8</td>\n",
       "      <td>https://inaturalist-open-data.s3.amazonaws.com...</td>\n",
       "      <td>None</td>\n",
       "      <td>llhouse2</td>\n",
       "      <td>2022-06-03</td>\n",
       "      <td>10:48:19</td>\n",
       "      <td>38899</td>\n",
       "      <td>Princeton University</td>\n",
       "      <td>40.343137</td>\n",
       "      <td>74.655070</td>\n",
       "      <td>...</td>\n",
       "      <td>0.57</td>\n",
       "      <td>0.39</td>\n",
       "      <td>0.04</td>\n",
       "      <td>[#7b859c, #9aa6c5, #354723]</td>\n",
       "      <td>227544.0</td>\n",
       "      <td>499</td>\n",
       "      <td>456</td>\n",
       "      <td>1.094298</td>\n",
       "      <td>227544.000000</td>\n",
       "      <td>0.000000</td>\n",
       "    </tr>\n",
       "    <tr>\n",
       "      <th>8</th>\n",
       "      <td>p9</td>\n",
       "      <td>https://inaturalist-open-data.s3.amazonaws.com...</td>\n",
       "      <td>None</td>\n",
       "      <td>llhouse2</td>\n",
       "      <td>2022-06-03</td>\n",
       "      <td>10:41:30</td>\n",
       "      <td>38490</td>\n",
       "      <td>Princeton University</td>\n",
       "      <td>40.343137</td>\n",
       "      <td>74.655070</td>\n",
       "      <td>...</td>\n",
       "      <td>0.58</td>\n",
       "      <td>0.08</td>\n",
       "      <td>0.34</td>\n",
       "      <td>[#828fa9, #384935, #8e9cbc]</td>\n",
       "      <td>15944.5</td>\n",
       "      <td>216</td>\n",
       "      <td>228</td>\n",
       "      <td>0.947368</td>\n",
       "      <td>0.624246</td>\n",
       "      <td>0.961903</td>\n",
       "    </tr>\n",
       "    <tr>\n",
       "      <th>9</th>\n",
       "      <td>p10</td>\n",
       "      <td>https://inaturalist-open-data.s3.amazonaws.com...</td>\n",
       "      <td>None</td>\n",
       "      <td>llhouse2</td>\n",
       "      <td>2022-06-03</td>\n",
       "      <td>09:42:34</td>\n",
       "      <td>34954</td>\n",
       "      <td>[]</td>\n",
       "      <td>37.209292</td>\n",
       "      <td>-81.176853</td>\n",
       "      <td>...</td>\n",
       "      <td>0.13</td>\n",
       "      <td>0.41</td>\n",
       "      <td>0.46</td>\n",
       "      <td>[#3f5623, #adbbdb, #93a1ba]</td>\n",
       "      <td>25622.5</td>\n",
       "      <td>345</td>\n",
       "      <td>245</td>\n",
       "      <td>1.408163</td>\n",
       "      <td>0.347127</td>\n",
       "      <td>0.487111</td>\n",
       "    </tr>\n",
       "    <tr>\n",
       "      <th>10</th>\n",
       "      <td>p11</td>\n",
       "      <td>https://inaturalist-open-data.s3.amazonaws.com...</td>\n",
       "      <td>None</td>\n",
       "      <td>llhouse2</td>\n",
       "      <td>2022-06-03</td>\n",
       "      <td>09:42:12</td>\n",
       "      <td>34932</td>\n",
       "      <td>[]</td>\n",
       "      <td>37.24632</td>\n",
       "      <td>-80.409539</td>\n",
       "      <td>...</td>\n",
       "      <td>0.19</td>\n",
       "      <td>0.75</td>\n",
       "      <td>0.06</td>\n",
       "      <td>[#425a30, #abbad8, #8b9aa8]</td>\n",
       "      <td>3121.5</td>\n",
       "      <td>107</td>\n",
       "      <td>71</td>\n",
       "      <td>1.507042</td>\n",
       "      <td>0.628321</td>\n",
       "      <td>0.959281</td>\n",
       "    </tr>\n",
       "    <tr>\n",
       "      <th>11</th>\n",
       "      <td>p12</td>\n",
       "      <td>https://inaturalist-open-data.s3.amazonaws.com...</td>\n",
       "      <td>None</td>\n",
       "      <td>llhouse2</td>\n",
       "      <td>2022-06-03</td>\n",
       "      <td>09:41:15</td>\n",
       "      <td>34875</td>\n",
       "      <td>[]</td>\n",
       "      <td>37.230324</td>\n",
       "      <td>-80.429407</td>\n",
       "      <td>...</td>\n",
       "      <td>0.83</td>\n",
       "      <td>0.09</td>\n",
       "      <td>0.08</td>\n",
       "      <td>[#a4b9d7, #0a220e, #899cb5]</td>\n",
       "      <td>17541.5</td>\n",
       "      <td>112</td>\n",
       "      <td>265</td>\n",
       "      <td>0.422642</td>\n",
       "      <td>0.591021</td>\n",
       "      <td>0.925429</td>\n",
       "    </tr>\n",
       "  </tbody>\n",
       "</table>\n",
       "<p>12 rows × 32 columns</p>\n",
       "</div>"
      ]
     },
     "execution_count": 1895,
     "metadata": {},
     "output_type": "execute_result"
    }
   ],
   "source": [
    "iNatStruct[\"Contour_Area\"] = contArea\n",
    "iNatStruct[\"Width\"] = width\n",
    "iNatStruct[\"Height\"] = height\n",
    "iNatStruct[\"Aspect_Ratio\"] = ratio\n",
    "iNatStruct[\"Extent\"] = extentInfo\n",
    "iNatStruct[\"Solidity\"] = solidityInfo\n",
    "#iNatStruct[\"angle\"] = angleInfo\n",
    "iNatStruct"
   ]
  },
  {
   "cell_type": "code",
   "execution_count": 1896,
   "id": "2ecc7479",
   "metadata": {},
   "outputs": [
    {
     "data": {
      "text/html": [
       "<pre style=\"white-space:pre;overflow-x:auto;line-height:normal;font-family:Menlo,'DejaVu Sans Mono',consolas,'Courier New',monospace\"><span style=\"font-weight: bold\">&lt;</span><span style=\"color: #ff00ff; text-decoration-color: #ff00ff; font-weight: bold\">matplotlib.image.AxesImage</span><span style=\"color: #000000; text-decoration-color: #000000\"> object at </span><span style=\"color: #008080; text-decoration-color: #008080; font-weight: bold\">0x00000225D56FE260</span><span style=\"font-weight: bold\">&gt;</span>\n",
       "</pre>\n"
      ],
      "text/plain": [
       "\u001b[1m<\u001b[0m\u001b[1;95mmatplotlib.image.AxesImage\u001b[0m\u001b[39m object at \u001b[0m\u001b[1;36m0x00000225D56FE260\u001b[0m\u001b[1m>\u001b[0m\n"
      ]
     },
     "metadata": {},
     "output_type": "display_data"
    },
    {
     "data": {
      "text/html": [
       "<pre style=\"white-space:pre;overflow-x:auto;line-height:normal;font-family:Menlo,'DejaVu Sans Mono',consolas,'Courier New',monospace\"><span style=\"font-weight: bold\">&lt;</span><span style=\"color: #ff00ff; text-decoration-color: #ff00ff; font-weight: bold\">Figure</span><span style=\"color: #000000; text-decoration-color: #000000\"> size 432x288 with </span><span style=\"color: #008080; text-decoration-color: #008080; font-weight: bold\">1</span><span style=\"color: #000000; text-decoration-color: #000000\"> Axes</span><span style=\"font-weight: bold\">&gt;</span>\n",
       "</pre>\n"
      ],
      "text/plain": [
       "\u001b[1m<\u001b[0m\u001b[1;95mFigure\u001b[0m\u001b[39m size 432x288 with \u001b[0m\u001b[1;36m1\u001b[0m\u001b[39m Axes\u001b[0m\u001b[1m>\u001b[0m\n"
      ]
     },
     "metadata": {},
     "output_type": "display_data"
    },
    {
     "data": {
      "image/png": "[encoded data removed]"
     },
     "metadata": {
      "needs_background": "light"
     },
     "output_type": "display_data"
    }
   ],
   "source": [
    "# attempt on p1\n",
    "req = urllib.request.urlopen(iNatStruct[\"Image_Link\"][1])\n",
    "arr = np.asarray(bytearray(req.read()), dtype=np.uint8)\n",
    "imgNat = cv2.imdecode(arr, -1)\n",
    "imgray = cv2.cvtColor(imgNat, cv2.COLOR_BGR2GRAY)\n",
    "blur = cv2.GaussianBlur(imgray, (5,5), 0)\n",
    "thresh = cv2.threshold(blur, 0, 255, cv2.THRESH_BINARY_INV + cv2.THRESH_OTSU)[1]\n",
    "contours, hierarchy = cv2.findContours(thresh, cv2.RETR_TREE, cv2.CHAIN_APPROX_SIMPLE)\n",
    "cv2.drawContours(imgNat, contours, -1, (0, 255, 0), 3)\n",
    "plt.imshow(imgNat)"
   ]
  },
  {
   "cell_type": "code",
   "execution_count": 1897,
   "id": "bb0409b3",
   "metadata": {},
   "outputs": [],
   "source": [
    "cnt = contours[0] # this works\n",
    "    \n",
    "# rotated rectangle\n",
    "rect = cv2.minAreaRect(cnt)\n",
    "box = cv2.boxPoints(rect)\n",
    "box = np.int0(box)\n",
    "x1,y1,w1,h1 = cv2.boundingRect(box)\n",
    "    #cv2.drawContours(img,[box],0,(0,0,255),2)\n",
    "    \n",
    "aspect_ratio = float(w1)/h1"
   ]
  },
  {
   "cell_type": "code",
   "execution_count": 1898,
   "id": "20ddbb7c",
   "metadata": {},
   "outputs": [
    {
     "data": {
      "text/html": [
       "<pre style=\"white-space:pre;overflow-x:auto;line-height:normal;font-family:Menlo,'DejaVu Sans Mono',consolas,'Courier New',monospace\"><span style=\"color: #008080; text-decoration-color: #008080; font-weight: bold\">1.0187265917602997</span>\n",
       "</pre>\n"
      ],
      "text/plain": [
       "\u001b[1;36m1.0187265917602997\u001b[0m\n"
      ]
     },
     "metadata": {},
     "output_type": "display_data"
    }
   ],
   "source": [
    "aspect_ratio"
   ]
  },
  {
   "cell_type": "code",
   "execution_count": 1899,
   "id": "46ddd808",
   "metadata": {},
   "outputs": [
    {
     "data": {
      "text/html": [
       "<pre style=\"white-space:pre;overflow-x:auto;line-height:normal;font-family:Menlo,'DejaVu Sans Mono',consolas,'Courier New',monospace\"><span style=\"color: #008080; text-decoration-color: #008080; font-weight: bold\">0.33881578947368424</span>\n",
       "</pre>\n"
      ],
      "text/plain": [
       "\u001b[1;36m0.33881578947368424\u001b[0m\n"
      ]
     },
     "metadata": {},
     "output_type": "display_data"
    }
   ],
   "source": [
    "103/304"
   ]
  },
  {
   "cell_type": "code",
   "execution_count": 1900,
   "id": "a4c9a632",
   "metadata": {},
   "outputs": [
    {
     "data": {
      "text/html": [
       "<pre style=\"white-space:pre;overflow-x:auto;line-height:normal;font-family:Menlo,'DejaVu Sans Mono',consolas,'Courier New',monospace\"><span style=\"font-weight: bold\">[</span><span style=\"color: #008080; text-decoration-color: #008080; font-weight: bold\">256</span>, <span style=\"color: #008080; text-decoration-color: #008080; font-weight: bold\">242</span><span style=\"font-weight: bold\">]</span>\n",
       "</pre>\n"
      ],
      "text/plain": [
       "\u001b[1m[\u001b[0m\u001b[1;36m256\u001b[0m, \u001b[1;36m242\u001b[0m\u001b[1m]\u001b[0m\n"
      ]
     },
     "metadata": {},
     "output_type": "display_data"
    }
   ],
   "source": [
    "tag(imgNat)"
   ]
  },
  {
   "cell_type": "code",
   "execution_count": 1901,
   "id": "95dc82ee",
   "metadata": {},
   "outputs": [],
   "source": [
    "x1,y1,w1,h1 = cv2.boundingRect(cnt)"
   ]
  },
  {
   "cell_type": "code",
   "execution_count": 1902,
   "id": "ffe9dd45",
   "metadata": {},
   "outputs": [
    {
     "data": {
      "text/html": [
       "<pre style=\"white-space:pre;overflow-x:auto;line-height:normal;font-family:Menlo,'DejaVu Sans Mono',consolas,'Courier New',monospace\"><span style=\"color: #008080; text-decoration-color: #008080; font-weight: bold\">1.04149377593361</span>\n",
       "</pre>\n"
      ],
      "text/plain": [
       "\u001b[1;36m1.04149377593361\u001b[0m\n"
      ]
     },
     "metadata": {},
     "output_type": "display_data"
    }
   ],
   "source": [
    "float(w1)/h1"
   ]
  },
  {
   "cell_type": "code",
   "execution_count": 1903,
   "id": "202a46cb",
   "metadata": {},
   "outputs": [],
   "source": [
    "#plt.imshow(imgNat)"
   ]
  },
  {
   "cell_type": "code",
   "execution_count": 1904,
   "id": "3c43966d",
   "metadata": {},
   "outputs": [],
   "source": [
    "# Attempt on image with background of clear white\n",
    "#image6 = cv2.imread('/Users/jubls/Documents/AndroVTURCS/leaf_white.jpeg')\n",
    "#blurred = cv2.blur(imgNat, (3,3))\n",
    "#canny = cv2.Canny(blurred, 50, 200)\n",
    "\n",
    "## find the non-zero min-max coords of canny\n",
    "#pts = np.argwhere(canny>0)\n",
    "#y1,x1 = pts.min(axis=0)\n",
    "#y2,x2 = pts.max(axis=0)\n",
    "\n",
    "## crop the region\n",
    "#cropped = imgNat[y1:y2, x1:x2]\n",
    "#cv2.imwrite(\"cropped.png\", cropped)\n",
    "\n",
    "#tagged = cv2.rectangle(imgNat.copy(), (x1,y1), (x2,y2), (0,255,0), 3, cv2.LINE_AA)\n",
    "#cv2.imshow(\"tagged\", tagged)\n",
    "#cv2.waitKey()\n",
    "\n",
    "#print(x2-x1)\n",
    "#print(y2-y1)"
   ]
  },
  {
   "cell_type": "code",
   "execution_count": 1905,
   "id": "9664f1bc",
   "metadata": {},
   "outputs": [],
   "source": [
    "#iNatStruct.to_excel(pd.ExcelWriter, sheet_name='Sheet1', na_rep='', \n",
    "#                   float_format=None, columns=None, header=True, index=True, \n",
    "#                   index_label=None, startrow=0, startcol=0, engine=None, \n",
    "#                   merge_cells=True, encoding=None, inf_rep='inf', verbose=True, \n",
    "#                   freeze_panes=None, storage_options=None)\n",
    "\n",
    "# Create a Pandas Excel writer using XlsxWriter as the engine.\n",
    "writer = pd.ExcelWriter('iNatStruct.xlsx', engine='xlsxwriter')\n",
    "\n",
    "# Convert the dataframe to an XlsxWriter Excel object.\n",
    "iNatStruct.to_excel(writer, sheet_name='Sheet1', index=False)\n",
    "\n",
    "# Close the Pandas Excel writer and output the Excel file.\n",
    "writer.save()"
   ]
  },
  {
   "cell_type": "code",
   "execution_count": 1906,
   "id": "37ec6bf3",
   "metadata": {},
   "outputs": [],
   "source": [
    "# convert to csv file\n",
    "iNatStruct.to_csv('iNatStruct.csv')"
   ]
  },
  {
   "cell_type": "code",
   "execution_count": 1907,
   "id": "1ee5fa55",
   "metadata": {},
   "outputs": [],
   "source": [
    "# %load_ext watermark\n",
    "# %watermark -v -m -p pandas,numpy,opencv-python,future,matplotlib,sklearn,urllib3,pyinaturalist,urllib.request,cv2"
   ]
  }
 ],
 "metadata": {
  "interpreter": {
   "hash": "fd96370b791b4e4b2b47a3667ae3e18217ec16788d92c294082a8f273ec99fef"
  },
  "kernelspec": {
   "display_name": "Python 3.10.4 64-bit (system)",
   "language": "python",
   "name": "python3"
  },
  "language_info": {
   "codemirror_mode": {
    "name": "ipython",
    "version": 3
   },
   "file_extension": ".py",
   "mimetype": "text/x-python",
   "name": "python",
   "nbconvert_exporter": "python",
   "pygments_lexer": "ipython3",
   "version": "3.10.4"
  }
 },
 "nbformat": 4,
 "nbformat_minor": 5
}
