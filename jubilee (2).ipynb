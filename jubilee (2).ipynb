{
 "cells": [
  {
   "cell_type": "code",
   "execution_count": null,
   "id": "4c306b6c",
   "metadata": {},
   "outputs": [],
   "source": [
    "from __future__ import print_function\n",
    "import pandas as pd\n",
    "import numpy as np\n",
    "import cv2\n",
    "import matplotlib.colors as cs\n",
    "import matplotlib.pyplot as plt\n",
    "from sklearn.cluster import KMeans\n",
    "import urllib\n",
    "from pyinaturalist import get_observations\n",
    "import urllib.request\n",
    "from matplotlib import pyplot as plt"
   ]
  },
  {
   "cell_type": "markdown",
   "id": "922b0335",
   "metadata": {},
   "source": [
    "### Create a new structured dataframe using the user id"
   ]
  },
  {
   "cell_type": "code",
   "execution_count": null,
   "id": "b49e7768",
   "metadata": {},
   "outputs": [],
   "source": [
    "iNaturalist_Username = input()"
   ]
  },
  {
   "cell_type": "code",
   "execution_count": null,
   "id": "5d82d206",
   "metadata": {},
   "outputs": [],
   "source": [
    "# Create a new observation\n",
    "observations = get_observations(user_id=iNaturalist_Username, page='all')\n",
    "\n",
    "# df_list is used to append all the observations into a dataframe\n",
    "df_list = []\n",
    "# df_url is used to store image urls\n",
    "df_url = []\n",
    "# df_lat_long is used to store latitude and longitude\n",
    "df_lat = []\n",
    "df_long = []\n",
    "# df_site_url is used to store site url\n",
    "df_site_url = []\n",
    "# Store user id and login\n",
    "# df_user_id = []\n",
    "df_user_login = []\n",
    "# Store public/positional accuracy\n",
    "# df_pos_acc = []\n",
    "# df_pub_pos_acc = []\n",
    "\n",
    "for obs in observations['results']:\n",
    "    # From dict to dataframe\n",
    "    df = pd.DataFrame.from_dict(obs, orient='index')\n",
    "    # Get image urls\n",
    "    if obs.get('photos') is not None:\n",
    "        image_url = obs.get('photos')[0].get('url')\n",
    "    else:\n",
    "        image_url = 'None'\n",
    "    # Get latitude and longitude\n",
    "    # Get positional accuracy\n",
    "    if obs.get('location') is not None:\n",
    "        lat = obs.get('location')[0]\n",
    "        lon = obs.get('location')[1]\n",
    "        # pos_acc = obs.get('positional_accuracy')\n",
    "        # pub_pos_acc = obs.get('public_positional_accuracy')\n",
    "    else:\n",
    "        lat = '             40.343137'\n",
    "        lon = '             74.655070'\n",
    "        # pos_acc = 'None'\n",
    "        # pub_pos_acc = 'None'\n",
    "    # Get site url\n",
    "    if obs.get('uri') is not None:\n",
    "        site_url = obs.get('uri')\n",
    "    else:\n",
    "        site_url = 'None'\n",
    "    # Get user id and login\n",
    "    if obs.get('user') is not None:\n",
    "        #user_id = obs.get('user').get('id')\n",
    "        user_login = obs.get('user').get('login')\n",
    "    else:\n",
    "        #user_id = 'None'\n",
    "        user_login = 'None'\n",
    "        \n",
    "    # Transpose the dataframe so that rows represent images and columns are variables\n",
    "    # that describe the images.\n",
    "    df = df.transpose()\n",
    "    df_list.append(df)\n",
    "    df_url.append(image_url)\n",
    "    df_lat.append(lat)\n",
    "    df_long.append(lon)\n",
    "    df_site_url.append(site_url)\n",
    "    #df_user_id.append(user_id)\n",
    "    df_user_login.append(user_login)\n",
    "    # df_pos_acc.append(pos_acc)\n",
    "    # df_pub_pos_acc.append(pub_pos_acc)\n",
    "\n",
    "# Concatenate all dataframes\n",
    "iNatStruct = pd.concat(df_list)\n",
    "\n",
    "# Add updated columns to the dataframe\n",
    "iNatStruct['square_image_url'] = df_url\n",
    "iNatStruct['latitude'] = df_lat\n",
    "iNatStruct['longitude'] = df_long\n",
    "iNatStruct['site_url'] = df_site_url\n",
    "#iNatStruct['user_id'] = df_user_id\n",
    "iNatStruct['User'] = df_user_login\n",
    "# iNatStruct['positional_accuracy'] = df_pos_acc\n",
    "# iNatStruct['public_positional_accuracy'] = df_pub_pos_acc\n",
    "\n",
    "# Replace image size from 'square' to 'medium' and 'large'\n",
    "iNatStruct['Image_Link'] = iNatStruct['square_image_url'].replace('square', 'medium', regex=True)\n",
    "# iNatStruct['large_image_url'] = iNatStruct['square_image_url'].replace('square', 'large', regex=True)\n",
    "\n",
    "# Reset index and drop the old index\n",
    "iNatStruct = iNatStruct.reset_index()\n",
    "# iNatStruct = iNatStruct.drop(['index'], axis=1)\n",
    "\n",
    "iNatStruct"
   ]
  },
  {
   "cell_type": "markdown",
   "id": "b8f780a3",
   "metadata": {},
   "source": [
    "## Continue on initial structured data frame "
   ]
  },
  {
   "cell_type": "code",
   "execution_count": null,
   "id": "e0da5eed",
   "metadata": {},
   "outputs": [],
   "source": [
    "# Split time_observed_at into date and time\n",
    "def convertT(time):\n",
    "    time = time.replace('T',' ')\n",
    "    return time\n",
    "\n",
    "(iNatStruct.time_observed_at.map(lambda t: convertT(t).split()))[0][1]"
   ]
  },
  {
   "cell_type": "code",
   "execution_count": null,
   "id": "12436cba",
   "metadata": {},
   "outputs": [],
   "source": [
    "# Use lambda function to split time_observed_at into date and time\n",
    "for i in iNatStruct.time_observed_at:    \n",
    "    iNatStruct['observed_date'] = (iNatStruct.time_observed_at.map(lambda t: convertT(t).split()[0]))\n",
    "    iNatStruct['observed_time'] = (iNatStruct.time_observed_at.map(lambda t: convertT(t).split()[1]))"
   ]
  },
  {
   "cell_type": "code",
   "execution_count": null,
   "id": "afe8be2e",
   "metadata": {},
   "outputs": [],
   "source": [
    "# shift columns observed_date and observed_time to position 1 and 2\n",
    "column1 = iNatStruct.pop('observed_date')\n",
    "column2 = iNatStruct.pop('observed_time')\n",
    "  \n",
    "# insert column using insert\n",
    "iNatStruct.insert(1, 'observed_date', column1)\n",
    "iNatStruct.insert(2, 'observed_time', column2)\n",
    "\n",
    "# delete time_observed_at column\n",
    "del iNatStruct[\"time_observed_at\"]\n",
    "del iNatStruct[\"observed_on\"]\n",
    "#del iNatStruct[\"observed_time\"]"
   ]
  },
  {
   "cell_type": "code",
   "execution_count": null,
   "id": "f0901c47",
   "metadata": {},
   "outputs": [],
   "source": [
    "# shift location column to last column\n",
    "column1 = iNatStruct.pop('location')\n",
    "  \n",
    "# insert location column using insert\n",
    "iNatStruct.insert(len(iNatStruct) - 1, 'location', column1) \n",
    "# not sure why it's not moving the column to last position"
   ]
  },
  {
   "cell_type": "code",
   "execution_count": null,
   "id": "d21a0f12",
   "metadata": {},
   "outputs": [],
   "source": [
    "# Remove the characters after '-'\n",
    "def removeChar(char):\n",
    "    ch = \"-\"\n",
    "    char = char.split(ch, 1)[0]\n",
    "    return char\n",
    "\n",
    "# Use lambda function to remove the characters after '-'\n",
    "iNatStruct['observed_time'] = iNatStruct.observed_time.map(lambda t: removeChar(t))"
   ]
  },
  {
   "cell_type": "code",
   "execution_count": null,
   "id": "265d4395",
   "metadata": {},
   "outputs": [],
   "source": [
    "# Rename columns\n",
    "iNatStruct.rename(columns = {'species_guess':'Species', 'observed_date':'Date', 'observed_time':'Time', 'latitude':'Lat', 'longitude':'Long'}, inplace = True)\n",
    "\n",
    "# The structured dataframe is now ready\n",
    "iNatStruct = iNatStruct[[\"Image_Link\", \"Species\", \"User\", \"Date\", \"Time\", \"Lat\", \"Long\"]]\n",
    "\n",
    "# Add p_ column\n",
    "p_lab = ['p'+str(s+1) for s in iNatStruct.index]\n",
    "iNatStruct.insert(0, \"Image_Label\", p_lab)\n",
    "\n",
    "# Sort DataFrame by date and time\n",
    "iNatStruct = iNatStruct.sort_values(['Date', 'Time'], ascending = [True, True])\n",
    "\n",
    "iNatStruct.head()"
   ]
  },
  {
   "cell_type": "markdown",
   "id": "0565bf7b",
   "metadata": {},
   "source": [
    "# Jubilee's color observation code"
   ]
  },
  {
   "cell_type": "markdown",
   "id": "14b5eace",
   "metadata": {},
   "source": [
    "## Show percentage of dominant (most frequent) color within image using kmeans"
   ]
  },
  {
   "cell_type": "code",
   "execution_count": null,
   "id": "bd1f23c0",
   "metadata": {},
   "outputs": [],
   "source": [
    "def centroid_histogram(clt):\n",
    "    # grab the number of different clusters and create a histogram\n",
    "    # based on the number of pixels assigned to each cluster\n",
    "    numLabels = np.arange(0, len(np.unique(clt.labels_)) + 1)\n",
    "    (hist, _) = np.histogram(clt.labels_, bins=numLabels)\n",
    "\n",
    "    # normalize the histogram, so that it sums to one\n",
    "    hist = hist.astype(\"float\")\n",
    "    hist /= hist.sum()\n",
    "    #hist = \"{:.2f}\".format(hist)\n",
    "    \n",
    "    # return the histogram\n",
    "    return hist\n",
    "\n",
    "\n",
    "#hist = centroid_histogram(clt)\n",
    "#print(hist)\n",
    "#type(hist)"
   ]
  },
  {
   "cell_type": "markdown",
   "id": "1bee67f8",
   "metadata": {},
   "source": [
    "### Define Color Palette Display Function"
   ]
  },
  {
   "cell_type": "code",
   "execution_count": null,
   "id": "7fe3ef85",
   "metadata": {},
   "outputs": [],
   "source": [
    "def palette(clusters):\n",
    "    width = 300\n",
    "    palette = np.zeros((50, width, 3), np.uint8)\n",
    "    steps = width/clusters.cluster_centers_.shape[0]\n",
    "    for idx, centers in enumerate(clusters.cluster_centers_):\n",
    "        palette[:, int(idx*steps):(int((idx+1)*steps)), :] = centers\n",
    "    return palette"
   ]
  },
  {
   "cell_type": "markdown",
   "id": "31e6de0e",
   "metadata": {},
   "source": [
    "## Implement RGB color column"
   ]
  },
  {
   "cell_type": "code",
   "execution_count": null,
   "id": "448fbb2e",
   "metadata": {},
   "outputs": [],
   "source": [
    "# column name list \n",
    "col_names =  ['R1', 'G1', 'B1', 'R2', 'G2', 'B2', 'R3', 'G3', 'B3']\n",
    "col_names1 =  ['Per1', 'Per2', 'Per3']\n",
    "  \n",
    "# create an empty dataframe\n",
    "# with columns\n",
    "RGBdf = pd.DataFrame(columns = col_names)\n",
    "PERdf = pd.DataFrame(columns = col_names1) \n",
    "#RGBdf"
   ]
  },
  {
   "cell_type": "code",
   "execution_count": null,
   "id": "18db1d4f",
   "metadata": {},
   "outputs": [],
   "source": [
    "#import time"
   ]
  },
  {
   "cell_type": "code",
   "execution_count": null,
   "id": "6a6eafbb",
   "metadata": {},
   "outputs": [],
   "source": [
    "#start = time.time()\n",
    "\n",
    "#clustNum = 3 #set number of cluster for kmeans to be 3\n",
    "#clt = KMeans(n_clusters=clustNum) # kmeans to find color cluster\n",
    "\n",
    "#for img in iNatStruct[\"Image_Link\"]: \n",
    "#    req = urllib.request.urlopen(img)\n",
    "#    arr = np.asarray(bytearray(req.read()), dtype=np.uint8)\n",
    "#    imgNat = cv2.imdecode(arr, -1)\n",
    "#    imgNat = cv2.cvtColor(imgNat,cv2.COLOR_BGR2RGB) #convert bgr to rgb\n",
    "#    n_img = np.reshape(imgNat,(imgNat.shape[0]*imgNat.shape[1],3)) #reshape img array\n",
    "#    clt.fit(n_img)\n",
    "    \n",
    "    #labels = np.unique(clt.labels_) #get unique value of labels in kmeans\n",
    "    #hist,_ = np.histogram(clt.labels_,bins=np.arange(len(labels)+1)) #find pixel numbers of each color\n",
    "    #colors = [] # list to hold color\n",
    "    #rgbVals = [] \n",
    "    #rgbVals1 = [] \n",
    "    #hexlabels = [] # list to hold hex color code\n",
    "#end = time.time()\n",
    "#elapsedTime = round(end-start,3)\n",
    "#print(\"new code block took\", elapsedTime)"
   ]
  },
  {
   "cell_type": "markdown",
   "id": "887d9671",
   "metadata": {},
   "source": [
    "### attempt to use function"
   ]
  },
  {
   "cell_type": "code",
   "execution_count": null,
   "id": "b23e5e6a",
   "metadata": {},
   "outputs": [],
   "source": [
    "#def imgConvert(img): \n",
    "#    for img in iNatStruct[\"Image_Link\"]: \n",
    "#        req = urllib.request.urlopen(img)\n",
    "#        arr = np.asarray(bytearray(req.read()), dtype=np.uint8)\n",
    "#        imgNat = cv2.imdecode(arr, -1)\n",
    "#        imgNat = cv2.cvtColor(imgNat,cv2.COLOR_BGR2RGB) #convert bgr to rgb\n",
    "#        n_img = np.reshape(imgNat,(imgNat.shape[0]*imgNat.shape[1],3)) #reshape img array\n",
    "        \n",
    "#    return clt.fit(n_img)"
   ]
  },
  {
   "cell_type": "code",
   "execution_count": null,
   "id": "cc0974d0",
   "metadata": {},
   "outputs": [],
   "source": [
    "#start = time.time()\n",
    "#heights_cm = list(map(imgConvert, iNatStruct[\"Image_Link\"]))\n",
    "#end = time.time()\n",
    "#elapsedTime = round(end-start,3)\n",
    "#print(\"new code block took\", elapsedTime)"
   ]
  },
  {
   "cell_type": "markdown",
   "id": "9aba9977",
   "metadata": {},
   "source": [
    "- n_init: int, default=10\n",
    "- max_iter: int, default=300"
   ]
  },
  {
   "cell_type": "code",
   "execution_count": null,
   "id": "ababdc5b",
   "metadata": {},
   "outputs": [],
   "source": [
    "#start = time.time()\n",
    "\n",
    "hex_code = []\n",
    "r_pix = []\n",
    "g_pix = []\n",
    "b_pix = []\n",
    "per = []\n",
    "\n",
    "clustNum = 3 #set number of cluster for kmeans to be 3\n",
    "#clt = KMeans(n_clusters=clustNum) # kmeans to find color cluster\n",
    "clt = KMeans(n_clusters=clustNum, n_init = 5, max_iter = 100) # kmeans to find color cluster\n",
    "\n",
    "for img in iNatStruct[\"Image_Link\"]: \n",
    "    req = urllib.request.urlopen(img)\n",
    "    arr = np.asarray(bytearray(req.read()), dtype=np.uint8)\n",
    "    imgNat = cv2.imdecode(arr, -1)\n",
    "    #print(img)\n",
    "    \n",
    "    #clustNum = 3 #set number of cluster for kmeans to be 3\n",
    "    #clustNum = 4 #set number of cluster for kmeans to be 4\n",
    "    imgNat = cv2.cvtColor(imgNat,cv2.COLOR_BGR2RGB) #convert bgr to rgb\n",
    "    n_img = np.reshape(imgNat,(imgNat.shape[0]*imgNat.shape[1],3)) #reshape img array\n",
    "    #clt = KMeans(n_clusters=clustNum) # kmeans to find color cluster\n",
    "    clt.fit(n_img)\n",
    "    labels = np.unique(clt.labels_) #get unique value of labels in kmeans\n",
    "    hist,_ = np.histogram(clt.labels_,bins=np.arange(len(labels)+1)) #find pixel numbers of each color\n",
    "    colors = [] # list to hold color\n",
    "    rgbVals = [] \n",
    "    #rgbVals1 = [] \n",
    "    hexlabels = [] # list to hold hex color code\n",
    "    \n",
    "    #get the main color\n",
    "    for i in range(clt.cluster_centers_.shape[0]):\n",
    "        #colors.append(tuple(clt.cluster_centers_[i]/255))\n",
    "        colors.append(tuple(clt.cluster_centers_[i]))\n",
    "        \n",
    "        # add individual RGB values\n",
    "        #out = [(clt.cluster_centers_[i][j]) for j in range(clustNum)]\n",
    "        \n",
    "        # uncomment\n",
    "        for j in range(clustNum):\n",
    "            rgbVals.append(clt.cluster_centers_[i][j])\n",
    "            \n",
    "        hexlabels.append(cs.to_hex(tuple(clt.cluster_centers_[i]/255)))\n",
    "\n",
    "    \n",
    "    ## uncomment\n",
    "    rgbVals = [rgbVals]\n",
    "    \n",
    "    # add percentage\n",
    "    #histPer = centroid_histogram(clt)\n",
    "    #histPer = list(histPer)\n",
    "    histPer = list(centroid_histogram(clt))\n",
    "    #histPer = [round(percent,2) for percent in histPer]\n",
    "    per.append([round(percent,2) for percent in histPer])\n",
    "    #per.append(histPer)\n",
    "    \n",
    "    # append RGB\n",
    "    RGBdf = RGBdf.append(pd.DataFrame(rgbVals, columns=['R1', 'G1', 'B1', 'R2', 'G2', 'B2', 'R3', 'G3', 'B3']), \n",
    "                   ignore_index = True)\n",
    "    \n",
    "    #iNatStruct[\"hex_color_code\"]\n",
    "    hex_code.append(hexlabels)\n",
    "    \n",
    "    #for idx in range(clustNum):\n",
    "    #    r_pix.append(clt.cluster_centers_[idx][0]) # R\n",
    "    #    g_pix.append(clt.cluster_centers_[idx][1]) # G\n",
    "    #    b_pix.append(clt.cluster_centers_[idx][2]) # G\n",
    "    #r_pix.append(clt.cluster_centers_[0]) # R\n",
    "    #g_pix.append(clt.cluster_centers_[1]) # G\n",
    "    #b_pix.append(clt.cluster_centers_[2]) # B\n",
    "#end = time.time()\n",
    "#elapsedTime = round(end-start,3)\n",
    "#print(\"new code block took\", elapsedTime)    "
   ]
  },
  {
   "cell_type": "code",
   "execution_count": null,
   "id": "ebd57fee",
   "metadata": {},
   "outputs": [],
   "source": [
    "#print(type(colors))\n",
    "#colors\n",
    "#colors[0]"
   ]
  },
  {
   "cell_type": "code",
   "execution_count": null,
   "id": "9611497e",
   "metadata": {},
   "outputs": [],
   "source": [
    "#newCol = [colors]\n",
    "#newCol[0]"
   ]
  },
  {
   "cell_type": "code",
   "execution_count": null,
   "id": "c8d92aec",
   "metadata": {},
   "outputs": [],
   "source": [
    "#print(per[0])\n",
    "#per"
   ]
  },
  {
   "cell_type": "code",
   "execution_count": null,
   "id": "19d08989",
   "metadata": {},
   "outputs": [],
   "source": [
    "# column name list \n",
    "#col_names2 =  ['R', 'G', 'B']\n",
    "  \n",
    "# create an empty dataframe\n",
    "#df = pd.DataFrame(columns = col_names2) "
   ]
  },
  {
   "cell_type": "code",
   "execution_count": null,
   "id": "3b0ed40d",
   "metadata": {},
   "outputs": [],
   "source": [
    "# example column\n",
    "#for i in range(len(df)):\n",
    "#    df.loc[i] = colors[i]\n",
    "#df.head()"
   ]
  },
  {
   "cell_type": "code",
   "execution_count": null,
   "id": "ff9a1ce5",
   "metadata": {},
   "outputs": [],
   "source": [
    "# percent column\n",
    "for i in range(len(per)):\n",
    "    PERdf.loc[i] = per[i]\n",
    "PERdf.head()"
   ]
  },
  {
   "cell_type": "code",
   "execution_count": null,
   "id": "c2b22565",
   "metadata": {},
   "outputs": [],
   "source": [
    "# re-set index to be same as iNatStruct\n",
    "RGBdf = RGBdf.set_index(iNatStruct.index)\n",
    "PERdf = PERdf.set_index(iNatStruct.index)"
   ]
  },
  {
   "cell_type": "code",
   "execution_count": null,
   "id": "e9391bd7",
   "metadata": {},
   "outputs": [],
   "source": [
    "# append method\n",
    "#result = iNatStruct.append(RGBdf)\n",
    "result = pd.concat([iNatStruct, RGBdf, PERdf], axis=1)\n",
    "#display(result)"
   ]
  },
  {
   "cell_type": "code",
   "execution_count": null,
   "id": "21b36377",
   "metadata": {},
   "outputs": [],
   "source": [
    "iNatStruct = result\n",
    "#iNatStruct[\"Percentage\"] = per\n",
    "iNatStruct[\"Hex_Color_Code\"] = hex_code\n",
    "#iNatStruct.head()"
   ]
  },
  {
   "cell_type": "code",
   "execution_count": null,
   "id": "187e2689",
   "metadata": {},
   "outputs": [],
   "source": [
    "#hist = centroid_histogram(clt)\n",
    "#maxPer = max(hist)\n",
    "#maxPer"
   ]
  },
  {
   "cell_type": "code",
   "execution_count": null,
   "id": "ee11facd",
   "metadata": {},
   "outputs": [],
   "source": [
    "#plt.imshow(imgNat)"
   ]
  },
  {
   "cell_type": "code",
   "execution_count": null,
   "id": "b4ce840e",
   "metadata": {},
   "outputs": [],
   "source": [
    "#plt.pie(hist,labels=hexlabels,colors=colors,autopct='%1.1f%%')\n",
    "#plt.axis('equal')\n",
    "#plt.show()"
   ]
  },
  {
   "cell_type": "markdown",
   "id": "f57432a1",
   "metadata": {},
   "source": [
    "### masking attempt"
   ]
  },
  {
   "cell_type": "code",
   "execution_count": null,
   "id": "eb0bf752",
   "metadata": {},
   "outputs": [],
   "source": [
    "# attempt on p9\n",
    "#req = urllib.request.urlopen(iNatStruct[\"Image_Link\"][0])\n",
    "#arr = np.asarray(bytearray(req.read()), dtype=np.uint8)\n",
    "#imgNat = cv2.imdecode(arr, -1)\n",
    "#imgray = cv2.cvtColor(imgNat, cv2.COLOR_BGR2GRAY)\n",
    "#blur = cv2.GaussianBlur(imgray, (5,5), 0)\n",
    "#thresh = cv2.threshold(blur, 0, 255, cv2.THRESH_BINARY_INV + cv2.THRESH_OTSU)[1]\n",
    "#contours, hierarchy = cv2.findContours(thresh, cv2.RETR_TREE, cv2.CHAIN_APPROX_SIMPLE)\n",
    "#cv2.drawContours(imgNat, contours, -1, (0, 255, 0), 3)\n",
    "#plt.imshow(imgNat)"
   ]
  },
  {
   "cell_type": "code",
   "execution_count": null,
   "id": "a0630d8c",
   "metadata": {},
   "outputs": [],
   "source": [
    "# Attempt on image with background of clear white\n",
    "#image6 = cv2.imread('/Users/jubls/Documents/AndroVTURCS/leaf_white.jpeg')\n",
    "#blurred = cv2.blur(imgNat, (3,3))\n",
    "#canny = cv2.Canny(blurred, 50, 200)\n",
    "\n",
    "## find the non-zero min-max coords of canny\n",
    "#pts = np.argwhere(canny>0)\n",
    "#y1,x1 = pts.min(axis=0)\n",
    "#y2,x2 = pts.max(axis=0)\n",
    "\n",
    "## crop the region\n",
    "#cropped = imgNat[y1:y2, x1:x2]\n",
    "#cv2.imwrite(\"cropped.png\", cropped)\n",
    "\n",
    "#tagged = cv2.rectangle(imgNat.copy(), (x1,y1), (x2,y2), (0,255,0), 3, cv2.LINE_AA)\n",
    "#cv2.imshow(\"tagged\", tagged)\n",
    "#cv2.waitKey()"
   ]
  },
  {
   "cell_type": "code",
   "execution_count": null,
   "id": "4b832393",
   "metadata": {},
   "outputs": [],
   "source": [
    "# create zero matrix \n",
    "#mask = np.zeros(imgNat.shape[:2], dtype=\"uint8\")\n",
    "#cv2.rectangle(mask, (x1, y1), (x2, y2), 255, -1)\n",
    "#cv2.imshow(\"Rectangular Mask\", mask)\n",
    "\n",
    "# apply our mask: notice the leaf in image is cropped out\n",
    "#masked = cv2.bitwise_and(imgNat, imgNat, mask=mask)\n",
    "#masked = cv2.bitwise_not(imgNat, imgNat, mask=mask)\n",
    "#cv2.imshow(\"Mask Applied to Leaf Image\", masked)\n",
    "#cv2.waitKey(0)"
   ]
  },
  {
   "cell_type": "code",
   "execution_count": null,
   "id": "1044e57f",
   "metadata": {},
   "outputs": [],
   "source": [
    "#print(imgNat.shape)\n",
    "#print((x2, y2))\n",
    "#print((x1, y1))\n",
    "#print(imgNat.shape[:2])\n",
    "#print(imgNat.shape[1])"
   ]
  },
  {
   "cell_type": "markdown",
   "id": "dd2cdd71",
   "metadata": {},
   "source": [
    "## First Method in attempt to mask out background¶\n",
    "- un-comment to check"
   ]
  },
  {
   "cell_type": "code",
   "execution_count": null,
   "id": "38781550",
   "metadata": {},
   "outputs": [],
   "source": [
    "#cropped_image = imgNat[y2:imgNat.shape[0], x2:imgNat.shape[1]]\n",
    "#cv2.imshow(\"Mask Applied to Leaf Image\", cropped_image)\n",
    "#cv2.waitKey(0)\n",
    "#cv2.destroyAllWindows()"
   ]
  },
  {
   "cell_type": "code",
   "execution_count": null,
   "id": "655b3539",
   "metadata": {},
   "outputs": [],
   "source": [
    "#arr = np.asarray(bytearray(cropped_image.read()), dtype=np.uint8)\n",
    "#imgNat = cv2.imdecode(arr, -1)\n",
    "#clustNum = 1 #set number of cluster for kmeans to be 2\n",
    "#n_img = np.reshape(cropped_image,(cropped_image.shape[0]*cropped_image.shape[1],3)) #reshape img array\n",
    "#clt = KMeans(n_clusters=clustNum) # kmeans to find color cluster\n",
    "#clt.fit(n_img)\n",
    "#labels = np.unique(clt.labels_) #get unique value of labels in kmeans\n",
    "#hist,_ = np.histogram(clt.labels_,bins=np.arange(len(labels)+1)) #find pixel numbers of each color\n",
    "#colors = [] # list to hold color\n",
    "#hexlabels = [] # list to hold hex color code\n",
    "#col_pix = []\n",
    "\n",
    "#get the main color\n",
    "#for i in range(clt.cluster_centers_.shape[0]):\n",
    "    #clust_cent = tuple(clt.cluster_centers_[i]/255)\n",
    "#    colors.append(tuple(clt.cluster_centers_[i]/255))\n",
    "#    col_pix.append(tuple(clt.cluster_centers_[i]))\n",
    "    #colors.append(clust_cent)\n",
    "#    hexlabels.append(cs.to_hex(tuple(clt.cluster_centers_[i]/255)))\n",
    "    "
   ]
  },
  {
   "cell_type": "markdown",
   "id": "d01f358e",
   "metadata": {},
   "source": [
    "#### create pie chart for color"
   ]
  },
  {
   "cell_type": "code",
   "execution_count": null,
   "id": "ed63347d",
   "metadata": {},
   "outputs": [],
   "source": [
    "#plt.pie(hist,labels=hexlabels,colors=colors,autopct='%1.1f%%')\n",
    "#plt.axis('equal')\n",
    "#plt.show()"
   ]
  },
  {
   "cell_type": "markdown",
   "id": "9f7277f3",
   "metadata": {},
   "source": [
    "## Second Method in attempt to mask out background"
   ]
  },
  {
   "cell_type": "code",
   "execution_count": null,
   "id": "104c76f3",
   "metadata": {},
   "outputs": [],
   "source": [
    "#img = cv.imread('test2.jpg')\n",
    "#imgray = cv2.cvtColor(imgNat, cv2.COLOR_BGR2GRAY)\n",
    "#blur = cv2.GaussianBlur(imgray, (5,5), 0)\n",
    "#thresh = cv2.threshold(blur, 0, 255, cv2.THRESH_BINARY_INV + cv2.THRESH_OTSU)[1]\n",
    "#contours, hierarchy = cv2.findContours(thresh, cv2.RETR_TREE, cv2.CHAIN_APPROX_SIMPLE)\n",
    "#cv2.drawContours(imgNat, contours, -1, (0, 255, 0), 3)\n",
    "#plt.imshow(imgNat)"
   ]
  },
  {
   "cell_type": "code",
   "execution_count": null,
   "id": "a8dbf193",
   "metadata": {},
   "outputs": [],
   "source": [
    "#arr = np.asarray(bytearray(cropped_image.read()), dtype=np.uint8)\n",
    "#imgNat = cv2.imdecode(arr, -1)\n",
    "#clustNum = 4 #set number of cluster for kmeans to be 4\n",
    "#n_img = np.reshape(imgNat,(imgNat.shape[0]*imgNat.shape[1],3)) #reshape img array\n",
    "#clt = KMeans(n_clusters=clustNum) # kmeans to find color cluster\n",
    "#clt.fit(n_img)\n",
    "#labels = np.unique(clt.labels_) #get unique value of labels in kmeans\n",
    "#hist,_ = np.histogram(clt.labels_,bins=np.arange(len(labels)+1)) #find pixel numbers of each color\n",
    "#colors = [] # list to hold color\n",
    "#hexlabels = [] # list to hold hex color code\n",
    "#col_pix = []\n",
    "\n",
    "#get the main color\n",
    "#for i in range(clt.cluster_centers_.shape[0]):\n",
    "    #clust_cent = tuple(clt.cluster_centers_[i]/255)\n",
    "#    colors.append(tuple(clt.cluster_centers_[i]/255))\n",
    "#    col_pix.append(tuple(clt.cluster_centers_[i]))\n",
    "    #colors.append(clust_cent)\n",
    "    #hexlabels.append(cs.to_hex(tuple(clt.cluster_centers_[i]/255)))\n",
    "    "
   ]
  },
  {
   "cell_type": "code",
   "execution_count": null,
   "id": "570bce62",
   "metadata": {},
   "outputs": [],
   "source": [
    "#from pylab import *\n",
    "#clt = clt.fit(imgNat.reshape(-1, 3))\n",
    "#imshow(palette(clt))"
   ]
  },
  {
   "cell_type": "markdown",
   "id": "301adef6",
   "metadata": {},
   "source": [
    "# Wei's code"
   ]
  },
  {
   "cell_type": "code",
   "execution_count": null,
   "id": "9eeeb57b",
   "metadata": {},
   "outputs": [],
   "source": [
    "# Wei's new first block of code\n",
    "#img = cv.imread('test2.jpg')\n",
    "#imgray = cv.cvtColor(img, cv.COLOR_BGR2GRAY)\n",
    "#blur = cv2.GaussianBlur(imgray, (5,5), 0)\n",
    "#thresh = cv2.threshold(blur, 0, 255, cv2.THRESH_BINARY_INV + cv2.THRESH_OTSU)[1]\n",
    "#contours, hierarchy = cv.findContours(thresh, cv.RETR_TREE, cv.CHAIN_APPROX_SIMPLE)"
   ]
  },
  {
   "cell_type": "code",
   "execution_count": null,
   "id": "f35dae54",
   "metadata": {},
   "outputs": [],
   "source": [
    "def tag(img):\n",
    "    blurred = cv2.blur(imgNat, (3,3))\n",
    "    canny = cv2.Canny(blurred, 50, 200)\n",
    "    \n",
    "    pts = np.argwhere(canny>0)\n",
    "    y1,x1 = pts.min(axis=0)\n",
    "    y2,x2 = pts.max(axis=0)\n",
    "    \n",
    "    w = (x2-x1) # width\n",
    "    h = (y2-y1) # height\n",
    "    \n",
    "    return [w,h]"
   ]
  },
  {
   "cell_type": "code",
   "execution_count": null,
   "id": "0b536710",
   "metadata": {},
   "outputs": [],
   "source": [
    "print(tag(imgNat))\n",
    "print(tag(imgNat)[0])\n",
    "print(tag(imgNat)[1])"
   ]
  },
  {
   "cell_type": "code",
   "execution_count": null,
   "id": "bdc5aa93",
   "metadata": {},
   "outputs": [],
   "source": [
    "ex = [tag(imgNat),tag(imgNat)]\n",
    "np.array(tag(imgNat))\n",
    "np.array(ex)"
   ]
  },
  {
   "cell_type": "code",
   "execution_count": null,
   "id": "ad4f48c6",
   "metadata": {},
   "outputs": [],
   "source": [
    "#start = time.time()\n",
    "\n",
    "contArea = []\n",
    "width = []\n",
    "height = []\n",
    "ratio = []\n",
    "extentInfo = []\n",
    "solidityInfo = []\n",
    "wInfo = []\n",
    "hInfo = []\n",
    "\n",
    "#for img in iNatStruct.index: \n",
    "for img in iNatStruct[\"Image_Link\"]: \n",
    "    req = urllib.request.urlopen(img)\n",
    "    arr = np.asarray(bytearray(req.read()), dtype=np.uint8)\n",
    "    imgNat = cv2.imdecode(arr, -1)\n",
    "    #print(img)\n",
    "    \n",
    "    #img = cv2.imread('test2.jpg')\n",
    "    imgray = cv2.cvtColor(imgNat, cv2.COLOR_BGR2GRAY)\n",
    "    blur = cv2.GaussianBlur(imgray, (5,5), 0)\n",
    "    thresh = cv2.threshold(blur, 0, 255, cv2.THRESH_BINARY_INV + cv2.THRESH_OTSU)[1]\n",
    "    contours, hierarchy = cv2.findContours(thresh, cv2.RETR_TREE, cv2.CHAIN_APPROX_SIMPLE)\n",
    "    \n",
    "    cv2.drawContours(imgNat, contours, -1, (0, 255, 0), 3)\n",
    "    \n",
    "    # Contour Area\n",
    "    #cnt = contours[1] >> throws an error for some reason..?\n",
    "    cnt = contours[0] # this works\n",
    "    \n",
    "    # Get area\n",
    "    area = cv2.contourArea(cnt)\n",
    "\n",
    "    # rotated rectangle\n",
    "    #rect = cv2.minAreaRect(cnt)\n",
    "    #box = cv2.boxPoints(rect)\n",
    "    #box = np.int0(box)\n",
    "    #x,y,w,h = cv2.boundingRect(box)\n",
    "    #cv2.drawContours(img,[box],0,(0,0,255),2)\n",
    "    \n",
    "    #if area < 50:\n",
    "    #    w = tag(imgNat)[0]\n",
    "    #    h = tag(imgNat)[1]\n",
    "    #    cnt = np.array([tag(imgNat),tag(imgNat)])\n",
    "    #    area = w*h\n",
    "        #area = cv2.contourArea(cnt)\n",
    "    \n",
    "    # Manually get width and height by tagging image\n",
    "    w = tag(imgNat)[0]\n",
    "    h = tag(imgNat)[1]\n",
    "    \n",
    "    # Get aspect_ratio\n",
    "    aspect_ratio = float(w)/h\n",
    "    \n",
    "    # Get extent\n",
    "    x1,y1,w1,h1 = cv2.boundingRect(cnt) \n",
    "    #rect_area = w1*h1\n",
    "    rect_area = w*h\n",
    "    extent = float(area)/rect_area\n",
    "    #print(\"the extent is\", extent)\n",
    "\n",
    "    # Get solidity\n",
    "    hull = cv2.convexHull(cnt)\n",
    "    hull_area = cv2.contourArea(hull)\n",
    "    #print(\"the convex hull area is\", hull_area)\n",
    "    #solidity = float(area)/hull_area\n",
    "    if hull_area == 0:\n",
    "        solidity = 0\n",
    "    else:\n",
    "        solidity = float(area)/hull_area\n",
    "\n",
    "    # Orientation\n",
    "    #(x,y),(MA,ma),angle = cv2.fitEllipse(cnt)\n",
    "    #print(\"the angle of object is\", angle)\n",
    "       \n",
    "    wInfo.append(tag(imgNat)[0])\n",
    "    hInfo.append(tag(imgNat)[1])\n",
    "    \n",
    "    contArea.append(area)\n",
    "    width.append(w1)\n",
    "    height.append(h1)\n",
    "    ratio.append(aspect_ratio)\n",
    "    extentInfo.append(extent)\n",
    "    solidityInfo.append(solidity)\n",
    "    #angleInfo.append(angle)\n",
    "    \n",
    "#end = time.time()\n",
    "#elapsedTime = round(end-start,3)\n",
    "#print(\"new code block took\", elapsedTime) "
   ]
  },
  {
   "cell_type": "markdown",
   "id": "99e3266f",
   "metadata": {},
   "source": [
    "## sum"
   ]
  },
  {
   "cell_type": "code",
   "execution_count": null,
   "id": "2fa24b43",
   "metadata": {},
   "outputs": [],
   "source": [
    "iNat_copy = iNatStruct.copy()\n",
    "iNat_copy[\"Contour_Area\"] = contArea\n",
    "iNat_copy[\"Width\"] = width\n",
    "iNat_copy[\"w_man\"] = wInfo\n",
    "iNat_copy[\"Height\"] = height\n",
    "iNat_copy[\"h_man\"] = hInfo\n",
    "iNat_copy[\"Aspect_Ratio\"] = ratio\n",
    "iNat_copy[\"Extent\"] = extentInfo\n",
    "iNat_copy[\"Solidity\"] = solidityInfo\n",
    "\n",
    "iNat_copy"
   ]
  },
  {
   "cell_type": "code",
   "execution_count": null,
   "id": "7b29afbc",
   "metadata": {},
   "outputs": [],
   "source": [
    "# attempt on p1\n",
    "req = urllib.request.urlopen(iNatStruct[\"Image_Link\"][10])\n",
    "#req = urllib.request.urlopen(iNatStruct[\"Image_Link\"][7]) # no idea why\n",
    "arr = np.asarray(bytearray(req.read()), dtype=np.uint8)\n",
    "imgNat = cv2.imdecode(arr, -1)\n",
    "imgray = cv2.cvtColor(imgNat, cv2.COLOR_BGR2GRAY)\n",
    "blur = cv2.GaussianBlur(imgray, (5,5), 0)\n",
    "thresh = cv2.threshold(blur, 0, 255, cv2.THRESH_BINARY_INV + cv2.THRESH_OTSU)[1]\n",
    "contours, hierarchy = cv2.findContours(thresh, cv2.RETR_TREE, cv2.CHAIN_APPROX_SIMPLE)\n",
    "cv2.drawContours(imgNat, contours, -1, (0, 255, 0), 3)\n",
    "plt.imshow(imgNat)"
   ]
  },
  {
   "cell_type": "code",
   "execution_count": null,
   "id": "ab1e0b66",
   "metadata": {},
   "outputs": [],
   "source": [
    "tag(imgNat)"
   ]
  },
  {
   "cell_type": "code",
   "execution_count": null,
   "id": "f9b1d18b",
   "metadata": {},
   "outputs": [],
   "source": [
    "# Attempt on image with background of clear white\n",
    "#image6 = cv2.imread('/Users/jubls/Documents/AndroVTURCS/leaf_white.jpeg')\n",
    "#blurred = cv2.blur(imgNat, (3,3))\n",
    "#canny = cv2.Canny(blurred, 50, 200)\n",
    "\n",
    "## find the non-zero min-max coords of canny\n",
    "#pts = np.argwhere(canny>0)\n",
    "#y1,x1 = pts.min(axis=0)\n",
    "#y2,x2 = pts.max(axis=0)\n",
    "\n",
    "## crop the region\n",
    "#cropped = imgNat[y1:y2, x1:x2]\n",
    "#cv2.imwrite(\"cropped.png\", cropped)\n",
    "\n",
    "#tagged = cv2.rectangle(imgNat.copy(), (x1,y1), (x2,y2), (0,255,0), 3, cv2.LINE_AA)\n",
    "#cv2.imshow(\"tagged\", tagged)\n",
    "#cv2.waitKey()\n",
    "\n",
    "#print(x2-x1)\n",
    "#print(y2-y1)"
   ]
  },
  {
   "cell_type": "code",
   "execution_count": null,
   "id": "94889eab",
   "metadata": {},
   "outputs": [],
   "source": [
    "cnt = contours[0] # this works\n",
    "    \n",
    "# rotated rectangle\n",
    "rect = cv2.minAreaRect(cnt)\n",
    "box = cv2.boxPoints(rect)\n",
    "box = np.int0(box)\n",
    "x1,y1,w1,h1 = cv2.boundingRect(box)\n",
    "    #cv2.drawContours(img,[box],0,(0,0,255),2)\n",
    "    \n",
    "aspect_ratio = float(w1)/h1"
   ]
  },
  {
   "cell_type": "code",
   "execution_count": null,
   "id": "cd8052c5",
   "metadata": {},
   "outputs": [],
   "source": [
    "iNatStruct[\"Contour_Area\"] = contArea\n",
    "iNatStruct[\"Width\"] = wInfo\n",
    "iNatStruct[\"Height\"] = hInfo\n",
    "iNatStruct[\"Aspect_Ratio\"] = ratio\n",
    "iNatStruct[\"Extent\"] = extentInfo\n",
    "iNatStruct[\"Solidity\"] = solidityInfo\n",
    "\n",
    "iNatStruct"
   ]
  },
  {
   "cell_type": "code",
   "execution_count": null,
   "id": "d9b92274",
   "metadata": {},
   "outputs": [],
   "source": [
    "#plt.imshow(imgNat)"
   ]
  },
  {
   "cell_type": "code",
   "execution_count": null,
   "id": "d9b7493a",
   "metadata": {},
   "outputs": [],
   "source": [
    "# Attempt on image with background of clear white\n",
    "#image6 = cv2.imread('/Users/jubls/Documents/AndroVTURCS/leaf_white.jpeg')\n",
    "#blurred = cv2.blur(imgNat, (3,3))\n",
    "#canny = cv2.Canny(blurred, 50, 200)\n",
    "\n",
    "## find the non-zero min-max coords of canny\n",
    "#pts = np.argwhere(canny>0)\n",
    "#y1,x1 = pts.min(axis=0)\n",
    "#y2,x2 = pts.max(axis=0)\n",
    "\n",
    "## crop the region\n",
    "#cropped = imgNat[y1:y2, x1:x2]\n",
    "#cv2.imwrite(\"cropped.png\", cropped)\n",
    "\n",
    "#tagged = cv2.rectangle(imgNat.copy(), (x1,y1), (x2,y2), (0,255,0), 3, cv2.LINE_AA)\n",
    "#cv2.imshow(\"tagged\", tagged)\n",
    "#cv2.waitKey()\n",
    "\n",
    "#print(x2-x1)\n",
    "#print(y2-y1)"
   ]
  },
  {
   "cell_type": "code",
   "execution_count": null,
   "id": "9664f1bc",
   "metadata": {},
   "outputs": [],
   "source": [
    "#iNatStruct.to_excel(pd.ExcelWriter, sheet_name='Sheet1', na_rep='', \n",
    "#                   float_format=None, columns=None, header=True, index=True, \n",
    "#                   index_label=None, startrow=0, startcol=0, engine=None, \n",
    "#                   merge_cells=True, encoding=None, inf_rep='inf', verbose=True, \n",
    "#                   freeze_panes=None, storage_options=None)\n",
    "\n",
    "# Create a Pandas Excel writer using XlsxWriter as the engine.\n",
    "writer = pd.ExcelWriter('iNatStruct.xlsx', engine='xlsxwriter')\n",
    "\n",
    "# Convert the dataframe to an XlsxWriter Excel object.\n",
    "iNatStruct.to_excel(writer, sheet_name='Sheet1', index=False)\n",
    "\n",
    "# Close the Pandas Excel writer and output the Excel file.\n",
    "writer.save()"
   ]
  },
  {
   "cell_type": "code",
   "execution_count": null,
   "id": "37ec6bf3",
   "metadata": {},
   "outputs": [],
   "source": [
    "# convert to csv file\n",
    "iNatStruct.to_csv('iNatStruct.csv')"
   ]
  },
  {
   "cell_type": "code",
   "execution_count": null,
   "id": "1ee5fa55",
   "metadata": {},
   "outputs": [],
   "source": [
    "# %load_ext watermark\n",
    "# %watermark -v -m -p pandas,numpy,opencv-python,future,matplotlib,sklearn,urllib3,pyinaturalist,urllib.request,cv2"
   ]
  }
 ],
 "metadata": {
  "interpreter": {
   "hash": "02f98e1ef769cc7f499ace748c15704fda7f859700f65a0b083b14a72e5925f6"
  },
  "kernelspec": {
   "display_name": "Python 3 (ipykernel)",
   "language": "python",
   "name": "python3"
  },
  "language_info": {
   "codemirror_mode": {
    "name": "ipython",
    "version": 3
   },
   "file_extension": ".py",
   "mimetype": "text/x-python",
   "name": "python",
   "nbconvert_exporter": "python",
   "pygments_lexer": "ipython3",
   "version": "3.9.7"
  }
 },
 "nbformat": 4,
 "nbformat_minor": 5
}
